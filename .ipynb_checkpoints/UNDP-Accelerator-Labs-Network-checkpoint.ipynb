{
 "cells": [
  {
   "cell_type": "code",
   "execution_count": null,
   "id": "9a9d693b-09f6-464e-9259-e025a5350fad",
   "metadata": {},
   "outputs": [],
   "source": []
  },
  {
   "cell_type": "code",
   "execution_count": 1,
   "id": "3cfcb80b-10d4-4e0b-a6d2-c5cdfd91fc5d",
   "metadata": {
    "tags": []
   },
   "outputs": [],
   "source": [
    "#importing libraries\n",
    "import pandas as pd\n",
    "import numpy as np\n",
    "import seaborn as sns\n",
    "import matplotlib.pyplot as plt\n",
    "import datetime\n",
    "import matplotlib as mpl\n",
    "\n",
    "#telling matplotlib to display the graphs\n",
    "%matplotlib inline"
   ]
  },
  {
   "cell_type": "code",
   "execution_count": null,
   "id": "da78ff1c-e333-4c11-bf48-03e9ec75cd85",
   "metadata": {},
   "outputs": [],
   "source": [
    "import dexplot as dxp"
   ]
  },
  {
   "cell_type": "code",
   "execution_count": 2,
   "id": "bfd24a8b-2832-4462-81f2-85f80cc89aa6",
   "metadata": {},
   "outputs": [],
   "source": [
    "# Setting default figsize\n",
    "mpl.rcParams['figure.figsize'] = (20, 10)"
   ]
  },
  {
   "cell_type": "code",
   "execution_count": 3,
   "id": "3173fe57-b025-43d6-b947-3be57c807797",
   "metadata": {},
   "outputs": [],
   "source": [
    "df = pd.read_excel(io='Viz4SocialGood_submissionV1.xlsx', sheet_name='Energy_sol_data')"
   ]
  },
  {
   "cell_type": "code",
   "execution_count": 4,
   "id": "dedd2afd-e1a6-44f3-add9-696007a24636",
   "metadata": {},
   "outputs": [],
   "source": [
    "data = df"
   ]
  },
  {
   "cell_type": "code",
   "execution_count": 5,
   "id": "c65003a9-5cc2-4195-9d87-d5f2d48859a9",
   "metadata": {},
   "outputs": [
    {
     "data": {
      "text/html": [
       "<div>\n",
       "<style scoped>\n",
       "    .dataframe tbody tr th:only-of-type {\n",
       "        vertical-align: middle;\n",
       "    }\n",
       "\n",
       "    .dataframe tbody tr th {\n",
       "        vertical-align: top;\n",
       "    }\n",
       "\n",
       "    .dataframe thead th {\n",
       "        text-align: right;\n",
       "    }\n",
       "</style>\n",
       "<table border=\"1\" class=\"dataframe\">\n",
       "  <thead>\n",
       "    <tr style=\"text-align: right;\">\n",
       "      <th></th>\n",
       "      <th>contribution_date</th>\n",
       "      <th>new_date</th>\n",
       "      <th>id</th>\n",
       "      <th>Energy source</th>\n",
       "      <th>Clean cooking application (yes)</th>\n",
       "      <th>title</th>\n",
       "      <th>Mapper</th>\n",
       "      <th>Contributor anonymized</th>\n",
       "      <th>What is the purpose of the solution? (brief problem &amp; solution description)</th>\n",
       "      <th>Please insert a link to the solution</th>\n",
       "      <th>...</th>\n",
       "      <th>Longitude</th>\n",
       "      <th>image_1</th>\n",
       "      <th>image_2</th>\n",
       "      <th>image_3</th>\n",
       "      <th>image_4</th>\n",
       "      <th>image_5</th>\n",
       "      <th>image_6</th>\n",
       "      <th>image_7</th>\n",
       "      <th>image_8</th>\n",
       "      <th>image_9</th>\n",
       "    </tr>\n",
       "  </thead>\n",
       "  <tbody>\n",
       "    <tr>\n",
       "      <th>0</th>\n",
       "      <td>Sun May 30 2021 13:48:32 GMT+0000 (Coordinated...</td>\n",
       "      <td>Sun May 30 2021 13:48:32</td>\n",
       "      <td>3100</td>\n",
       "      <td>Thermal</td>\n",
       "      <td>NaN</td>\n",
       "      <td>Eco Char</td>\n",
       "      <td>AccLab Algeria</td>\n",
       "      <td>Contributor 1</td>\n",
       "      <td>We upcycle wastes such as food organic wastes ...</td>\n",
       "      <td>NaN</td>\n",
       "      <td>...</td>\n",
       "      <td>3.0261856</td>\n",
       "      <td>NaN</td>\n",
       "      <td>NaN</td>\n",
       "      <td>NaN</td>\n",
       "      <td>NaN</td>\n",
       "      <td>NaN</td>\n",
       "      <td>NaN</td>\n",
       "      <td>NaN</td>\n",
       "      <td>NaN</td>\n",
       "      <td>NaN</td>\n",
       "    </tr>\n",
       "    <tr>\n",
       "      <th>1</th>\n",
       "      <td>Mon Jun 28 2021 13:56:30 GMT+0000 (Coordinated...</td>\n",
       "      <td>Mon Jun 28 2021 13:56:30</td>\n",
       "      <td>3177</td>\n",
       "      <td>Wind</td>\n",
       "      <td>NaN</td>\n",
       "      <td>Wind power generator</td>\n",
       "      <td>AccLab Angola</td>\n",
       "      <td>Contributor 2</td>\n",
       "      <td>The system to obtain electrical energy through...</td>\n",
       "      <td>NaN</td>\n",
       "      <td>...</td>\n",
       "      <td>13.6010742</td>\n",
       "      <td>file: img-10</td>\n",
       "      <td>NaN</td>\n",
       "      <td>NaN</td>\n",
       "      <td>NaN</td>\n",
       "      <td>NaN</td>\n",
       "      <td>NaN</td>\n",
       "      <td>NaN</td>\n",
       "      <td>NaN</td>\n",
       "      <td>NaN</td>\n",
       "    </tr>\n",
       "    <tr>\n",
       "      <th>2</th>\n",
       "      <td>Mon Jun 28 2021 13:32:36 GMT+0000 (Coordinated...</td>\n",
       "      <td>Mon Jun 28 2021 13:32:36</td>\n",
       "      <td>3176</td>\n",
       "      <td>Hydro</td>\n",
       "      <td>NaN</td>\n",
       "      <td>Hybrid Generator</td>\n",
       "      <td>AccLab Angola</td>\n",
       "      <td>Contributor 3</td>\n",
       "      <td>The production of fuel from water is done thro...</td>\n",
       "      <td>NaN</td>\n",
       "      <td>...</td>\n",
       "      <td>16.0817871</td>\n",
       "      <td>file: img-121</td>\n",
       "      <td>NaN</td>\n",
       "      <td>NaN</td>\n",
       "      <td>NaN</td>\n",
       "      <td>NaN</td>\n",
       "      <td>NaN</td>\n",
       "      <td>NaN</td>\n",
       "      <td>NaN</td>\n",
       "      <td>NaN</td>\n",
       "    </tr>\n",
       "    <tr>\n",
       "      <th>3</th>\n",
       "      <td>Thu Nov 12 2020 06:03:43 GMT+0000 (Coordinated...</td>\n",
       "      <td>Thu Nov 12 2020 06:03:43</td>\n",
       "      <td>2261</td>\n",
       "      <td>Renewable general</td>\n",
       "      <td>NaN</td>\n",
       "      <td>Electric Power Microgeneration System</td>\n",
       "      <td>AccLab Angola</td>\n",
       "      <td>Contributor 4</td>\n",
       "      <td>The electric power microgeneration system is d...</td>\n",
       "      <td>NaN</td>\n",
       "      <td>...</td>\n",
       "      <td>15.687688</td>\n",
       "      <td>file: img-230</td>\n",
       "      <td>NaN</td>\n",
       "      <td>NaN</td>\n",
       "      <td>NaN</td>\n",
       "      <td>NaN</td>\n",
       "      <td>NaN</td>\n",
       "      <td>NaN</td>\n",
       "      <td>NaN</td>\n",
       "      <td>NaN</td>\n",
       "    </tr>\n",
       "    <tr>\n",
       "      <th>4</th>\n",
       "      <td>Wed Jul 21 2021 10:12:39 GMT+0000 (Coordinated...</td>\n",
       "      <td>Wed Jul 21 2021 10:12:39</td>\n",
       "      <td>3236</td>\n",
       "      <td>Household application</td>\n",
       "      <td>x</td>\n",
       "      <td>Solar Cooker</td>\n",
       "      <td>AccLab Angola</td>\n",
       "      <td>Contributor 5</td>\n",
       "      <td>Solar Cooker\\n\\n\\n\\t\\t\\t\\n\\n\\n\\t\\t\\t\\n\\n\\n\\t\\t\\t</td>\n",
       "      <td>NaN</td>\n",
       "      <td>...</td>\n",
       "      <td>13.8098145</td>\n",
       "      <td>file: img-305</td>\n",
       "      <td>NaN</td>\n",
       "      <td>NaN</td>\n",
       "      <td>NaN</td>\n",
       "      <td>NaN</td>\n",
       "      <td>NaN</td>\n",
       "      <td>NaN</td>\n",
       "      <td>NaN</td>\n",
       "      <td>NaN</td>\n",
       "    </tr>\n",
       "  </tbody>\n",
       "</table>\n",
       "<p>5 rows × 44 columns</p>\n",
       "</div>"
      ],
      "text/plain": [
       "                                   contribution_date  \\\n",
       "0  Sun May 30 2021 13:48:32 GMT+0000 (Coordinated...   \n",
       "1  Mon Jun 28 2021 13:56:30 GMT+0000 (Coordinated...   \n",
       "2  Mon Jun 28 2021 13:32:36 GMT+0000 (Coordinated...   \n",
       "3  Thu Nov 12 2020 06:03:43 GMT+0000 (Coordinated...   \n",
       "4  Wed Jul 21 2021 10:12:39 GMT+0000 (Coordinated...   \n",
       "\n",
       "                   new_date    id          Energy source  \\\n",
       "0  Sun May 30 2021 13:48:32  3100                Thermal   \n",
       "1  Mon Jun 28 2021 13:56:30  3177                   Wind   \n",
       "2  Mon Jun 28 2021 13:32:36  3176                  Hydro   \n",
       "3  Thu Nov 12 2020 06:03:43  2261      Renewable general   \n",
       "4  Wed Jul 21 2021 10:12:39  3236  Household application   \n",
       "\n",
       "  Clean cooking application (yes)                                  title  \\\n",
       "0                             NaN                               Eco Char   \n",
       "1                             NaN                   Wind power generator   \n",
       "2                             NaN                       Hybrid Generator   \n",
       "3                             NaN  Electric Power Microgeneration System   \n",
       "4                               x                           Solar Cooker   \n",
       "\n",
       "           Mapper Contributor anonymized  \\\n",
       "0  AccLab Algeria          Contributor 1   \n",
       "1   AccLab Angola          Contributor 2   \n",
       "2   AccLab Angola          Contributor 3   \n",
       "3   AccLab Angola          Contributor 4   \n",
       "4   AccLab Angola          Contributor 5   \n",
       "\n",
       "  What is the purpose of the solution? (brief problem & solution description)  \\\n",
       "0  We upcycle wastes such as food organic wastes ...                            \n",
       "1  The system to obtain electrical energy through...                            \n",
       "2  The production of fuel from water is done thro...                            \n",
       "3  The electric power microgeneration system is d...                            \n",
       "4   Solar Cooker\\n\\n\\n\\t\\t\\t\\n\\n\\n\\t\\t\\t\\n\\n\\n\\t\\t\\t                            \n",
       "\n",
       "  Please insert a link to the solution  ...  Longitude         image_1  \\\n",
       "0                                  NaN  ...   3.0261856            NaN   \n",
       "1                                  NaN  ...  13.6010742   file: img-10   \n",
       "2                                  NaN  ...  16.0817871  file: img-121   \n",
       "3                                  NaN  ...   15.687688  file: img-230   \n",
       "4                                  NaN  ...  13.8098145  file: img-305   \n",
       "\n",
       "  image_2 image_3 image_4 image_5 image_6 image_7 image_8 image_9  \n",
       "0     NaN     NaN     NaN     NaN     NaN     NaN     NaN     NaN  \n",
       "1     NaN     NaN     NaN     NaN     NaN     NaN     NaN     NaN  \n",
       "2     NaN     NaN     NaN     NaN     NaN     NaN     NaN     NaN  \n",
       "3     NaN     NaN     NaN     NaN     NaN     NaN     NaN     NaN  \n",
       "4     NaN     NaN     NaN     NaN     NaN     NaN     NaN     NaN  \n",
       "\n",
       "[5 rows x 44 columns]"
      ]
     },
     "execution_count": 5,
     "metadata": {},
     "output_type": "execute_result"
    }
   ],
   "source": [
    "df.head()"
   ]
  },
  {
   "cell_type": "code",
   "execution_count": 6,
   "id": "0b1fbf05-63e3-4705-b3ac-192603528940",
   "metadata": {},
   "outputs": [],
   "source": [
    "pd.set_option('display.max_columns', 44)"
   ]
  },
  {
   "cell_type": "code",
   "execution_count": 7,
   "id": "1e061caa-4acc-4024-a016-2e4c5dfb6246",
   "metadata": {},
   "outputs": [
    {
     "data": {
      "text/html": [
       "<div>\n",
       "<style scoped>\n",
       "    .dataframe tbody tr th:only-of-type {\n",
       "        vertical-align: middle;\n",
       "    }\n",
       "\n",
       "    .dataframe tbody tr th {\n",
       "        vertical-align: top;\n",
       "    }\n",
       "\n",
       "    .dataframe thead th {\n",
       "        text-align: right;\n",
       "    }\n",
       "</style>\n",
       "<table border=\"1\" class=\"dataframe\">\n",
       "  <thead>\n",
       "    <tr style=\"text-align: right;\">\n",
       "      <th></th>\n",
       "      <th>contribution_date</th>\n",
       "      <th>new_date</th>\n",
       "      <th>id</th>\n",
       "      <th>Energy source</th>\n",
       "      <th>Clean cooking application (yes)</th>\n",
       "      <th>title</th>\n",
       "      <th>Mapper</th>\n",
       "      <th>Contributor anonymized</th>\n",
       "      <th>What is the purpose of the solution? (brief problem &amp; solution description)</th>\n",
       "      <th>Please insert a link to the solution</th>\n",
       "      <th>This solution is Do it Yourself / open source</th>\n",
       "      <th>This solution is protected by Intellectual Property</th>\n",
       "      <th>The solution holder is able to train others (including end-users) in using or replicating the solution</th>\n",
       "      <th>What is the unit cost of this Solution along with any additional cost for maintenance and training?</th>\n",
       "      <th>This solution is a Prototype</th>\n",
       "      <th>This solution is a Product</th>\n",
       "      <th>If this solution is a product, is it available in market?</th>\n",
       "      <th>If this solution is a product, does advance order has to be given?</th>\n",
       "      <th>What is the Technological Readiness Level (TRL) of this solution?</th>\n",
       "      <th>How much has this solution already been diffused? Is there potential feedback from end-users available?</th>\n",
       "      <th>Please upload a link of end-user feedback</th>\n",
       "      <th>Are there any efficiency benchmarks for this solution (eg. how much energy does it save; how much cheaper does it produce energy than current market rates/ current household expenditure / cost per kW h)?</th>\n",
       "      <th>Are there any other potential bottlenecks affecting cross-border or in country diffusion of this solution?</th>\n",
       "      <th>What Sustainable Development Goal is this Solution addressing? Tag 1</th>\n",
       "      <th>What Sustainable Development Goal is this Solution addressing? Tag 2</th>\n",
       "      <th>What Sustainable Development Goal is this Solution addressing? Tag 3</th>\n",
       "      <th>What Sustainable Development Goal is this Solution addressing? Tag 4</th>\n",
       "      <th>What Sustainable Development Goal is this Solution addressing? Tag 5</th>\n",
       "      <th>What thematic tags apply to this solution? Tag 1</th>\n",
       "      <th>What thematic tags apply to this solution? Tag 2</th>\n",
       "      <th>What thematic tags apply to this solution? Tag 3</th>\n",
       "      <th>What thematic tags apply to this solution? Tag 4</th>\n",
       "      <th>What thematic tags apply to this solution? Tag 5</th>\n",
       "      <th>Latitude</th>\n",
       "      <th>Longitude</th>\n",
       "      <th>image_1</th>\n",
       "      <th>image_2</th>\n",
       "      <th>image_3</th>\n",
       "      <th>image_4</th>\n",
       "      <th>image_5</th>\n",
       "      <th>image_6</th>\n",
       "      <th>image_7</th>\n",
       "      <th>image_8</th>\n",
       "      <th>image_9</th>\n",
       "    </tr>\n",
       "  </thead>\n",
       "  <tbody>\n",
       "    <tr>\n",
       "      <th>0</th>\n",
       "      <td>Sun May 30 2021 13:48:32 GMT+0000 (Coordinated...</td>\n",
       "      <td>Sun May 30 2021 13:48:32</td>\n",
       "      <td>3100</td>\n",
       "      <td>Thermal</td>\n",
       "      <td>NaN</td>\n",
       "      <td>Eco Char</td>\n",
       "      <td>AccLab Algeria</td>\n",
       "      <td>Contributor 1</td>\n",
       "      <td>We upcycle wastes such as food organic wastes ...</td>\n",
       "      <td>NaN</td>\n",
       "      <td>NaN</td>\n",
       "      <td>NaN</td>\n",
       "      <td>NaN</td>\n",
       "      <td>NaN</td>\n",
       "      <td>NaN</td>\n",
       "      <td>NaN</td>\n",
       "      <td>NaN</td>\n",
       "      <td>NaN</td>\n",
       "      <td>NaN</td>\n",
       "      <td>NaN</td>\n",
       "      <td>NaN</td>\n",
       "      <td>NaN</td>\n",
       "      <td>NaN</td>\n",
       "      <td>1.0</td>\n",
       "      <td>6.0</td>\n",
       "      <td>13.0</td>\n",
       "      <td>NaN</td>\n",
       "      <td>NaN</td>\n",
       "      <td>food waste management</td>\n",
       "      <td>youth</td>\n",
       "      <td>coffee</td>\n",
       "      <td>olives</td>\n",
       "      <td>NaN</td>\n",
       "      <td>36.7607349</td>\n",
       "      <td>3.0261856</td>\n",
       "      <td>NaN</td>\n",
       "      <td>NaN</td>\n",
       "      <td>NaN</td>\n",
       "      <td>NaN</td>\n",
       "      <td>NaN</td>\n",
       "      <td>NaN</td>\n",
       "      <td>NaN</td>\n",
       "      <td>NaN</td>\n",
       "      <td>NaN</td>\n",
       "    </tr>\n",
       "    <tr>\n",
       "      <th>1</th>\n",
       "      <td>Mon Jun 28 2021 13:56:30 GMT+0000 (Coordinated...</td>\n",
       "      <td>Mon Jun 28 2021 13:56:30</td>\n",
       "      <td>3177</td>\n",
       "      <td>Wind</td>\n",
       "      <td>NaN</td>\n",
       "      <td>Wind power generator</td>\n",
       "      <td>AccLab Angola</td>\n",
       "      <td>Contributor 2</td>\n",
       "      <td>The system to obtain electrical energy through...</td>\n",
       "      <td>NaN</td>\n",
       "      <td>NaN</td>\n",
       "      <td>NaN</td>\n",
       "      <td>NaN</td>\n",
       "      <td>NaN</td>\n",
       "      <td>NaN</td>\n",
       "      <td>NaN</td>\n",
       "      <td>NaN</td>\n",
       "      <td>NaN</td>\n",
       "      <td>NaN</td>\n",
       "      <td>NaN</td>\n",
       "      <td>NaN</td>\n",
       "      <td>NaN</td>\n",
       "      <td>NaN</td>\n",
       "      <td>1.0</td>\n",
       "      <td>7.0</td>\n",
       "      <td>13.0</td>\n",
       "      <td>NaN</td>\n",
       "      <td>NaN</td>\n",
       "      <td>alternative energy</td>\n",
       "      <td>clean energy</td>\n",
       "      <td>climate change</td>\n",
       "      <td>community empowerment</td>\n",
       "      <td>NaN</td>\n",
       "      <td>-12.833226</td>\n",
       "      <td>13.6010742</td>\n",
       "      <td>file: img-10</td>\n",
       "      <td>NaN</td>\n",
       "      <td>NaN</td>\n",
       "      <td>NaN</td>\n",
       "      <td>NaN</td>\n",
       "      <td>NaN</td>\n",
       "      <td>NaN</td>\n",
       "      <td>NaN</td>\n",
       "      <td>NaN</td>\n",
       "    </tr>\n",
       "    <tr>\n",
       "      <th>2</th>\n",
       "      <td>Mon Jun 28 2021 13:32:36 GMT+0000 (Coordinated...</td>\n",
       "      <td>Mon Jun 28 2021 13:32:36</td>\n",
       "      <td>3176</td>\n",
       "      <td>Hydro</td>\n",
       "      <td>NaN</td>\n",
       "      <td>Hybrid Generator</td>\n",
       "      <td>AccLab Angola</td>\n",
       "      <td>Contributor 3</td>\n",
       "      <td>The production of fuel from water is done thro...</td>\n",
       "      <td>NaN</td>\n",
       "      <td>NaN</td>\n",
       "      <td>NaN</td>\n",
       "      <td>NaN</td>\n",
       "      <td>NaN</td>\n",
       "      <td>NaN</td>\n",
       "      <td>NaN</td>\n",
       "      <td>NaN</td>\n",
       "      <td>NaN</td>\n",
       "      <td>NaN</td>\n",
       "      <td>NaN</td>\n",
       "      <td>NaN</td>\n",
       "      <td>NaN</td>\n",
       "      <td>NaN</td>\n",
       "      <td>10.0</td>\n",
       "      <td>12.0</td>\n",
       "      <td>13.0</td>\n",
       "      <td>NaN</td>\n",
       "      <td>NaN</td>\n",
       "      <td>NaN</td>\n",
       "      <td>alternative energy</td>\n",
       "      <td>electricity</td>\n",
       "      <td>polution reduction</td>\n",
       "      <td>NaN</td>\n",
       "      <td>-8.5158356</td>\n",
       "      <td>16.0817871</td>\n",
       "      <td>file: img-121</td>\n",
       "      <td>NaN</td>\n",
       "      <td>NaN</td>\n",
       "      <td>NaN</td>\n",
       "      <td>NaN</td>\n",
       "      <td>NaN</td>\n",
       "      <td>NaN</td>\n",
       "      <td>NaN</td>\n",
       "      <td>NaN</td>\n",
       "    </tr>\n",
       "    <tr>\n",
       "      <th>3</th>\n",
       "      <td>Thu Nov 12 2020 06:03:43 GMT+0000 (Coordinated...</td>\n",
       "      <td>Thu Nov 12 2020 06:03:43</td>\n",
       "      <td>2261</td>\n",
       "      <td>Renewable general</td>\n",
       "      <td>NaN</td>\n",
       "      <td>Electric Power Microgeneration System</td>\n",
       "      <td>AccLab Angola</td>\n",
       "      <td>Contributor 4</td>\n",
       "      <td>The electric power microgeneration system is d...</td>\n",
       "      <td>NaN</td>\n",
       "      <td>NaN</td>\n",
       "      <td>NaN</td>\n",
       "      <td>NaN</td>\n",
       "      <td>NaN</td>\n",
       "      <td>NaN</td>\n",
       "      <td>NaN</td>\n",
       "      <td>NaN</td>\n",
       "      <td>NaN</td>\n",
       "      <td>NaN</td>\n",
       "      <td>NaN</td>\n",
       "      <td>NaN</td>\n",
       "      <td>NaN</td>\n",
       "      <td>NaN</td>\n",
       "      <td>1.0</td>\n",
       "      <td>7.0</td>\n",
       "      <td>9.0</td>\n",
       "      <td>10.0</td>\n",
       "      <td>11.0</td>\n",
       "      <td>clean energy</td>\n",
       "      <td>community empowerment</td>\n",
       "      <td>rural electrification</td>\n",
       "      <td>social justice</td>\n",
       "      <td>welfare</td>\n",
       "      <td>-12.776115</td>\n",
       "      <td>15.687688</td>\n",
       "      <td>file: img-230</td>\n",
       "      <td>NaN</td>\n",
       "      <td>NaN</td>\n",
       "      <td>NaN</td>\n",
       "      <td>NaN</td>\n",
       "      <td>NaN</td>\n",
       "      <td>NaN</td>\n",
       "      <td>NaN</td>\n",
       "      <td>NaN</td>\n",
       "    </tr>\n",
       "    <tr>\n",
       "      <th>4</th>\n",
       "      <td>Wed Jul 21 2021 10:12:39 GMT+0000 (Coordinated...</td>\n",
       "      <td>Wed Jul 21 2021 10:12:39</td>\n",
       "      <td>3236</td>\n",
       "      <td>Household application</td>\n",
       "      <td>x</td>\n",
       "      <td>Solar Cooker</td>\n",
       "      <td>AccLab Angola</td>\n",
       "      <td>Contributor 5</td>\n",
       "      <td>Solar Cooker\\n\\n\\n\\t\\t\\t\\n\\n\\n\\t\\t\\t\\n\\n\\n\\t\\t\\t</td>\n",
       "      <td>NaN</td>\n",
       "      <td>NaN</td>\n",
       "      <td>NaN</td>\n",
       "      <td>NaN</td>\n",
       "      <td>NaN</td>\n",
       "      <td>NaN</td>\n",
       "      <td>NaN</td>\n",
       "      <td>NaN</td>\n",
       "      <td>NaN</td>\n",
       "      <td>NaN</td>\n",
       "      <td>NaN</td>\n",
       "      <td>NaN</td>\n",
       "      <td>NaN</td>\n",
       "      <td>NaN</td>\n",
       "      <td>7.0</td>\n",
       "      <td>12.0</td>\n",
       "      <td>13.0</td>\n",
       "      <td>NaN</td>\n",
       "      <td>NaN</td>\n",
       "      <td>innovation</td>\n",
       "      <td>polution reduction</td>\n",
       "      <td>solar energy</td>\n",
       "      <td>NaN</td>\n",
       "      <td>NaN</td>\n",
       "      <td>-12.86536</td>\n",
       "      <td>13.8098145</td>\n",
       "      <td>file: img-305</td>\n",
       "      <td>NaN</td>\n",
       "      <td>NaN</td>\n",
       "      <td>NaN</td>\n",
       "      <td>NaN</td>\n",
       "      <td>NaN</td>\n",
       "      <td>NaN</td>\n",
       "      <td>NaN</td>\n",
       "      <td>NaN</td>\n",
       "    </tr>\n",
       "  </tbody>\n",
       "</table>\n",
       "</div>"
      ],
      "text/plain": [
       "                                   contribution_date  \\\n",
       "0  Sun May 30 2021 13:48:32 GMT+0000 (Coordinated...   \n",
       "1  Mon Jun 28 2021 13:56:30 GMT+0000 (Coordinated...   \n",
       "2  Mon Jun 28 2021 13:32:36 GMT+0000 (Coordinated...   \n",
       "3  Thu Nov 12 2020 06:03:43 GMT+0000 (Coordinated...   \n",
       "4  Wed Jul 21 2021 10:12:39 GMT+0000 (Coordinated...   \n",
       "\n",
       "                   new_date    id          Energy source  \\\n",
       "0  Sun May 30 2021 13:48:32  3100                Thermal   \n",
       "1  Mon Jun 28 2021 13:56:30  3177                   Wind   \n",
       "2  Mon Jun 28 2021 13:32:36  3176                  Hydro   \n",
       "3  Thu Nov 12 2020 06:03:43  2261      Renewable general   \n",
       "4  Wed Jul 21 2021 10:12:39  3236  Household application   \n",
       "\n",
       "  Clean cooking application (yes)                                  title  \\\n",
       "0                             NaN                               Eco Char   \n",
       "1                             NaN                   Wind power generator   \n",
       "2                             NaN                       Hybrid Generator   \n",
       "3                             NaN  Electric Power Microgeneration System   \n",
       "4                               x                           Solar Cooker   \n",
       "\n",
       "           Mapper Contributor anonymized  \\\n",
       "0  AccLab Algeria          Contributor 1   \n",
       "1   AccLab Angola          Contributor 2   \n",
       "2   AccLab Angola          Contributor 3   \n",
       "3   AccLab Angola          Contributor 4   \n",
       "4   AccLab Angola          Contributor 5   \n",
       "\n",
       "  What is the purpose of the solution? (brief problem & solution description)  \\\n",
       "0  We upcycle wastes such as food organic wastes ...                            \n",
       "1  The system to obtain electrical energy through...                            \n",
       "2  The production of fuel from water is done thro...                            \n",
       "3  The electric power microgeneration system is d...                            \n",
       "4   Solar Cooker\\n\\n\\n\\t\\t\\t\\n\\n\\n\\t\\t\\t\\n\\n\\n\\t\\t\\t                            \n",
       "\n",
       "  Please insert a link to the solution  \\\n",
       "0                                  NaN   \n",
       "1                                  NaN   \n",
       "2                                  NaN   \n",
       "3                                  NaN   \n",
       "4                                  NaN   \n",
       "\n",
       "  This solution is Do it Yourself / open source  \\\n",
       "0                                           NaN   \n",
       "1                                           NaN   \n",
       "2                                           NaN   \n",
       "3                                           NaN   \n",
       "4                                           NaN   \n",
       "\n",
       "  This solution is protected by Intellectual Property  \\\n",
       "0                                                NaN    \n",
       "1                                                NaN    \n",
       "2                                                NaN    \n",
       "3                                                NaN    \n",
       "4                                                NaN    \n",
       "\n",
       "  The solution holder is able to train others (including end-users) in using or replicating the solution  \\\n",
       "0                                                NaN                                                       \n",
       "1                                                NaN                                                       \n",
       "2                                                NaN                                                       \n",
       "3                                                NaN                                                       \n",
       "4                                                NaN                                                       \n",
       "\n",
       "  What is the unit cost of this Solution along with any additional cost for maintenance and training?  \\\n",
       "0                                                NaN                                                    \n",
       "1                                                NaN                                                    \n",
       "2                                                NaN                                                    \n",
       "3                                                NaN                                                    \n",
       "4                                                NaN                                                    \n",
       "\n",
       "  This solution is a Prototype This solution is a Product  \\\n",
       "0                          NaN                        NaN   \n",
       "1                          NaN                        NaN   \n",
       "2                          NaN                        NaN   \n",
       "3                          NaN                        NaN   \n",
       "4                          NaN                        NaN   \n",
       "\n",
       "  If this solution is a product, is it available in market?  \\\n",
       "0                                                NaN          \n",
       "1                                                NaN          \n",
       "2                                                NaN          \n",
       "3                                                NaN          \n",
       "4                                                NaN          \n",
       "\n",
       "  If this solution is a product, does advance order has to be given?  \\\n",
       "0                                                NaN                   \n",
       "1                                                NaN                   \n",
       "2                                                NaN                   \n",
       "3                                                NaN                   \n",
       "4                                                NaN                   \n",
       "\n",
       "  What is the Technological Readiness Level (TRL) of this solution?  \\\n",
       "0                                                NaN                  \n",
       "1                                                NaN                  \n",
       "2                                                NaN                  \n",
       "3                                                NaN                  \n",
       "4                                                NaN                  \n",
       "\n",
       "  How much has this solution already been diffused? Is there potential feedback from end-users available?  \\\n",
       "0                                                NaN                                                        \n",
       "1                                                NaN                                                        \n",
       "2                                                NaN                                                        \n",
       "3                                                NaN                                                        \n",
       "4                                                NaN                                                        \n",
       "\n",
       "  Please upload a link of end-user feedback  \\\n",
       "0                                       NaN   \n",
       "1                                       NaN   \n",
       "2                                       NaN   \n",
       "3                                       NaN   \n",
       "4                                       NaN   \n",
       "\n",
       "  Are there any efficiency benchmarks for this solution (eg. how much energy does it save; how much cheaper does it produce energy than current market rates/ current household expenditure / cost per kW h)?  \\\n",
       "0                                                NaN                                                                                                                                                            \n",
       "1                                                NaN                                                                                                                                                            \n",
       "2                                                NaN                                                                                                                                                            \n",
       "3                                                NaN                                                                                                                                                            \n",
       "4                                                NaN                                                                                                                                                            \n",
       "\n",
       "  Are there any other potential bottlenecks affecting cross-border or in country diffusion of this solution?  \\\n",
       "0                                                NaN                                                           \n",
       "1                                                NaN                                                           \n",
       "2                                                NaN                                                           \n",
       "3                                                NaN                                                           \n",
       "4                                                NaN                                                           \n",
       "\n",
       "   What Sustainable Development Goal is this Solution addressing? Tag 1  \\\n",
       "0                                                1.0                      \n",
       "1                                                1.0                      \n",
       "2                                               10.0                      \n",
       "3                                                1.0                      \n",
       "4                                                7.0                      \n",
       "\n",
       "   What Sustainable Development Goal is this Solution addressing? Tag 2  \\\n",
       "0                                                6.0                      \n",
       "1                                                7.0                      \n",
       "2                                               12.0                      \n",
       "3                                                7.0                      \n",
       "4                                               12.0                      \n",
       "\n",
       "   What Sustainable Development Goal is this Solution addressing? Tag 3  \\\n",
       "0                                               13.0                      \n",
       "1                                               13.0                      \n",
       "2                                               13.0                      \n",
       "3                                                9.0                      \n",
       "4                                               13.0                      \n",
       "\n",
       "   What Sustainable Development Goal is this Solution addressing? Tag 4  \\\n",
       "0                                                NaN                      \n",
       "1                                                NaN                      \n",
       "2                                                NaN                      \n",
       "3                                               10.0                      \n",
       "4                                                NaN                      \n",
       "\n",
       "   What Sustainable Development Goal is this Solution addressing? Tag 5  \\\n",
       "0                                                NaN                      \n",
       "1                                                NaN                      \n",
       "2                                                NaN                      \n",
       "3                                               11.0                      \n",
       "4                                                NaN                      \n",
       "\n",
       "  What thematic tags apply to this solution? Tag 1  \\\n",
       "0                            food waste management   \n",
       "1                               alternative energy   \n",
       "2                                              NaN   \n",
       "3                                     clean energy   \n",
       "4                                       innovation   \n",
       "\n",
       "  What thematic tags apply to this solution? Tag 2  \\\n",
       "0                                            youth   \n",
       "1                                     clean energy   \n",
       "2                               alternative energy   \n",
       "3                            community empowerment   \n",
       "4                               polution reduction   \n",
       "\n",
       "  What thematic tags apply to this solution? Tag 3  \\\n",
       "0                                           coffee   \n",
       "1                                   climate change   \n",
       "2                                      electricity   \n",
       "3                            rural electrification   \n",
       "4                                     solar energy   \n",
       "\n",
       "  What thematic tags apply to this solution? Tag 4  \\\n",
       "0                                           olives   \n",
       "1                            community empowerment   \n",
       "2                               polution reduction   \n",
       "3                                   social justice   \n",
       "4                                              NaN   \n",
       "\n",
       "  What thematic tags apply to this solution? Tag 5   Latitude   Longitude   \\\n",
       "0                                              NaN  36.7607349   3.0261856   \n",
       "1                                              NaN  -12.833226  13.6010742   \n",
       "2                                              NaN  -8.5158356  16.0817871   \n",
       "3                                          welfare  -12.776115   15.687688   \n",
       "4                                              NaN   -12.86536  13.8098145   \n",
       "\n",
       "         image_1 image_2 image_3 image_4 image_5 image_6 image_7 image_8  \\\n",
       "0            NaN     NaN     NaN     NaN     NaN     NaN     NaN     NaN   \n",
       "1   file: img-10     NaN     NaN     NaN     NaN     NaN     NaN     NaN   \n",
       "2  file: img-121     NaN     NaN     NaN     NaN     NaN     NaN     NaN   \n",
       "3  file: img-230     NaN     NaN     NaN     NaN     NaN     NaN     NaN   \n",
       "4  file: img-305     NaN     NaN     NaN     NaN     NaN     NaN     NaN   \n",
       "\n",
       "  image_9  \n",
       "0     NaN  \n",
       "1     NaN  \n",
       "2     NaN  \n",
       "3     NaN  \n",
       "4     NaN  "
      ]
     },
     "execution_count": 7,
     "metadata": {},
     "output_type": "execute_result"
    }
   ],
   "source": [
    "df.head()"
   ]
  },
  {
   "cell_type": "code",
   "execution_count": 8,
   "id": "458a974d-9c96-4ac5-90f8-f15e87aa1cb4",
   "metadata": {},
   "outputs": [
    {
     "data": {
      "text/plain": [
       "Index(['contribution_date', 'new_date', 'id', 'Energy source',\n",
       "       'Clean cooking application (yes)', 'title', 'Mapper',\n",
       "       'Contributor anonymized',\n",
       "       'What is the purpose of the solution? (brief problem & solution description)',\n",
       "       'Please insert a link to the solution',\n",
       "       'This solution is Do it Yourself / open source',\n",
       "       'This solution is protected by Intellectual Property',\n",
       "       'The solution holder is able to train others (including end-users) in using or replicating the solution',\n",
       "       'What is the unit cost of this Solution along with any additional cost for maintenance and training?',\n",
       "       'This solution is a Prototype', 'This solution is a Product',\n",
       "       'If this solution is a product, is it available in market?',\n",
       "       'If this solution is a product, does advance order has to be given?',\n",
       "       'What is the Technological Readiness Level (TRL) of this solution?',\n",
       "       'How much has this solution already been diffused? Is there potential feedback from end-users available?',\n",
       "       'Please upload a link of end-user feedback',\n",
       "       'Are there any efficiency benchmarks for this solution (eg. how much energy does it save; how much cheaper does it produce energy than current market rates/ current household expenditure / cost per kW h)?',\n",
       "       'Are there any other potential bottlenecks affecting cross-border or in country diffusion of this solution?',\n",
       "       'What Sustainable Development Goal is this Solution addressing? Tag 1',\n",
       "       'What Sustainable Development Goal is this Solution addressing? Tag 2',\n",
       "       'What Sustainable Development Goal is this Solution addressing? Tag 3',\n",
       "       'What Sustainable Development Goal is this Solution addressing? Tag 4',\n",
       "       'What Sustainable Development Goal is this Solution addressing? Tag 5',\n",
       "       'What thematic tags apply to this solution? Tag 1',\n",
       "       'What thematic tags apply to this solution? Tag 2',\n",
       "       'What thematic tags apply to this solution? Tag 3',\n",
       "       'What thematic tags apply to this solution? Tag 4',\n",
       "       'What thematic tags apply to this solution? Tag 5', 'Latitude ',\n",
       "       'Longitude ', 'image_1', 'image_2', 'image_3', 'image_4', 'image_5',\n",
       "       'image_6', 'image_7', 'image_8', 'image_9'],\n",
       "      dtype='object')"
      ]
     },
     "execution_count": 8,
     "metadata": {},
     "output_type": "execute_result"
    }
   ],
   "source": [
    "# Let's rename columns with code for better replicability\n",
    "df.columns"
   ]
  },
  {
   "cell_type": "code",
   "execution_count": null,
   "id": "224ffc41-ff81-4c37-a401-c3d00b91a5c9",
   "metadata": {},
   "outputs": [],
   "source": []
  },
  {
   "cell_type": "markdown",
   "id": "85d1530f-6402-45e2-a12c-e2f618c94587",
   "metadata": {},
   "source": [
    "column sol_type to know wether the solution is a product or a prototype\n",
    "\n",
    "column sol_status to know wether the solution is open source or is intellectual property\n",
    "\n"
   ]
  },
  {
   "cell_type": "code",
   "execution_count": 9,
   "id": "04780df5-e2a0-4df9-942b-eca7fb3da6e2",
   "metadata": {},
   "outputs": [],
   "source": [
    "new_col_names = {'contribution_date':'contribution_date',\n",
    "                 'Energy source':'energy_source',\n",
    "                 'Clean cooking application (yes)':'clean_cooking',\n",
    "                 'Mapper':'mapper',\n",
    "                 'Contributor anonymized':'contributor',\n",
    "                 'What is the purpose of the solution? (brief problem & solution description)':'purp_prob_sol_description)',\n",
    "                 'Please insert a link to the solution':'solution_link',\n",
    "                 'This solution is Do it Yourself / open source':'sol_open_source',\n",
    "                 'This solution is protected by Intellectual Property':'sol_Intellectual_Property',\n",
    "                 'The solution holder is able to train others (including end-users) in using or replicating the solution':'sol_replication_training',\n",
    "                 'What is the unit cost of this Solution along with any additional cost for maintenance and training?':'total_sol_unit_cost',\n",
    "                 'This solution is a Prototype':'prototype',\n",
    "                 'This solution is a Product':'product',\n",
    "                 'If this solution is a product, is it available in market?': 'product_availability',\n",
    "                 'If this solution is a product, does advance order has to be given?':'product_advance_order',\n",
    "                 'What is the Technological Readiness Level (TRL) of this solution?':'solution_trl',\n",
    "                 'How much has this solution already been diffused? Is there potential feedback from end-users available?':'solution_diffused',\n",
    "                 'Please upload a link of end-user feedback':'end-user_feedback',\n",
    "                 'Are there any efficiency benchmarks for this solution (eg. how much energy does it save; how much cheaper does it produce energy than current market rates/ current household expenditure / cost per kW h)?':'efficiency_benchmarks',\n",
    "                 'Are there any other potential bottlenecks affecting cross-border or in country diffusion of this solution?':'bottlenecks',\n",
    "                 'What Sustainable Development Goal is this Solution addressing? Tag 1':'sdg_tag_1',\n",
    "                  'What Sustainable Development Goal is this Solution addressing? Tag 2':'sdg_tag_2',\n",
    "                  'What Sustainable Development Goal is this Solution addressing? Tag 3':'sdg_tag_3',\n",
    "                  'What Sustainable Development Goal is this Solution addressing? Tag 4':'sdg_tag_4',\n",
    "                  'What Sustainable Development Goal is this Solution addressing? Tag 5':'sdg_tag_5',\n",
    "                  'What thematic tags apply to this solution? Tag 1':'thematic_tag_1',\n",
    "                  'What thematic tags apply to this solution? Tag 2':'thematic_tag_2',\n",
    "                  'What thematic tags apply to this solution? Tag 3':'thematic_tag_3',\n",
    "                  'What thematic tags apply to this solution? Tag 4':'thematic_tag_4',\n",
    "                  'What thematic tags apply to this solution? Tag 5':'thematic_tag_5'}"
   ]
  },
  {
   "cell_type": "code",
   "execution_count": 10,
   "id": "0bb9d91f-8c63-4db8-80f9-63ac58cc8234",
   "metadata": {},
   "outputs": [
    {
     "data": {
      "text/plain": [
       "Index(['contribution_date', 'new_date', 'id', 'energy_source', 'clean_cooking',\n",
       "       'title', 'mapper', 'contributor', 'purp_prob_sol_description)',\n",
       "       'solution_link', 'sol_open_source', 'sol_Intellectual_Property',\n",
       "       'sol_replication_training', 'total_sol_unit_cost', 'prototype',\n",
       "       'product', 'product_availability', 'product_advance_order',\n",
       "       'solution_trl', 'solution_diffused', 'end-user_feedback',\n",
       "       'efficiency_benchmarks', 'bottlenecks', 'sdg_tag_1', 'sdg_tag_2',\n",
       "       'sdg_tag_3', 'sdg_tag_4', 'sdg_tag_5', 'thematic_tag_1',\n",
       "       'thematic_tag_2', 'thematic_tag_3', 'thematic_tag_4', 'thematic_tag_5',\n",
       "       'Latitude ', 'Longitude ', 'image_1', 'image_2', 'image_3', 'image_4',\n",
       "       'image_5', 'image_6', 'image_7', 'image_8', 'image_9'],\n",
       "      dtype='object')"
      ]
     },
     "execution_count": 10,
     "metadata": {},
     "output_type": "execute_result"
    }
   ],
   "source": [
    "# Let's rename then\n",
    "data.rename(columns=new_col_names, inplace=True)\n",
    "\n",
    "# test\n",
    "data.columns"
   ]
  },
  {
   "cell_type": "code",
   "execution_count": 11,
   "id": "619d54e5-c864-46eb-a6ae-46d08882bcd6",
   "metadata": {},
   "outputs": [
    {
     "name": "stdout",
     "output_type": "stream",
     "text": [
      "<class 'pandas.core.frame.DataFrame'>\n",
      "RangeIndex: 359 entries, 0 to 358\n",
      "Data columns (total 44 columns):\n",
      " #   Column                      Non-Null Count  Dtype  \n",
      "---  ------                      --------------  -----  \n",
      " 0   contribution_date           357 non-null    object \n",
      " 1   new_date                    357 non-null    object \n",
      " 2   id                          359 non-null    int64  \n",
      " 3   energy_source               355 non-null    object \n",
      " 4   clean_cooking               82 non-null     object \n",
      " 5   title                       359 non-null    object \n",
      " 6   mapper                      359 non-null    object \n",
      " 7   contributor                 359 non-null    object \n",
      " 8   purp_prob_sol_description)  347 non-null    object \n",
      " 9   solution_link               126 non-null    object \n",
      " 10  sol_open_source             100 non-null    object \n",
      " 11  sol_Intellectual_Property   41 non-null     object \n",
      " 12  sol_replication_training    127 non-null    object \n",
      " 13  total_sol_unit_cost         70 non-null     object \n",
      " 14  prototype                   69 non-null     object \n",
      " 15  product                     124 non-null    object \n",
      " 16  product_availability        64 non-null     object \n",
      " 17  product_advance_order       61 non-null     object \n",
      " 18  solution_trl                126 non-null    object \n",
      " 19  solution_diffused           103 non-null    object \n",
      " 20  end-user_feedback           27 non-null     object \n",
      " 21  efficiency_benchmarks       58 non-null     object \n",
      " 22  bottlenecks                 53 non-null     object \n",
      " 23  sdg_tag_1                   325 non-null    float64\n",
      " 24  sdg_tag_2                   237 non-null    float64\n",
      " 25  sdg_tag_3                   178 non-null    float64\n",
      " 26  sdg_tag_4                   75 non-null     float64\n",
      " 27  sdg_tag_5                   18 non-null     float64\n",
      " 28  thematic_tag_1              320 non-null    object \n",
      " 29  thematic_tag_2              282 non-null    object \n",
      " 30  thematic_tag_3              213 non-null    object \n",
      " 31  thematic_tag_4              124 non-null    object \n",
      " 32  thematic_tag_5              45 non-null     object \n",
      " 33  Latitude                    359 non-null    object \n",
      " 34  Longitude                   359 non-null    object \n",
      " 35  image_1                     322 non-null    object \n",
      " 36  image_2                     87 non-null     object \n",
      " 37  image_3                     33 non-null     object \n",
      " 38  image_4                     13 non-null     object \n",
      " 39  image_5                     3 non-null      object \n",
      " 40  image_6                     2 non-null      object \n",
      " 41  image_7                     2 non-null      object \n",
      " 42  image_8                     2 non-null      object \n",
      " 43  image_9                     1 non-null      object \n",
      "dtypes: float64(5), int64(1), object(38)\n",
      "memory usage: 123.5+ KB\n"
     ]
    }
   ],
   "source": [
    "df.info()"
   ]
  },
  {
   "cell_type": "code",
   "execution_count": 12,
   "id": "6a9df7bc-8980-4e6c-ac94-c94384b83088",
   "metadata": {},
   "outputs": [
    {
     "data": {
      "text/html": [
       "<div>\n",
       "<style scoped>\n",
       "    .dataframe tbody tr th:only-of-type {\n",
       "        vertical-align: middle;\n",
       "    }\n",
       "\n",
       "    .dataframe tbody tr th {\n",
       "        vertical-align: top;\n",
       "    }\n",
       "\n",
       "    .dataframe thead th {\n",
       "        text-align: right;\n",
       "    }\n",
       "</style>\n",
       "<table border=\"1\" class=\"dataframe\">\n",
       "  <thead>\n",
       "    <tr style=\"text-align: right;\">\n",
       "      <th></th>\n",
       "      <th>contribution_date</th>\n",
       "      <th>new_date</th>\n",
       "      <th>id</th>\n",
       "      <th>energy_source</th>\n",
       "      <th>clean_cooking</th>\n",
       "      <th>title</th>\n",
       "      <th>mapper</th>\n",
       "      <th>contributor</th>\n",
       "      <th>purp_prob_sol_description)</th>\n",
       "      <th>solution_link</th>\n",
       "      <th>sol_open_source</th>\n",
       "      <th>sol_Intellectual_Property</th>\n",
       "      <th>sol_replication_training</th>\n",
       "      <th>total_sol_unit_cost</th>\n",
       "      <th>prototype</th>\n",
       "      <th>product</th>\n",
       "      <th>product_availability</th>\n",
       "      <th>product_advance_order</th>\n",
       "      <th>solution_trl</th>\n",
       "      <th>solution_diffused</th>\n",
       "      <th>end-user_feedback</th>\n",
       "      <th>efficiency_benchmarks</th>\n",
       "      <th>bottlenecks</th>\n",
       "      <th>sdg_tag_1</th>\n",
       "      <th>sdg_tag_2</th>\n",
       "      <th>sdg_tag_3</th>\n",
       "      <th>sdg_tag_4</th>\n",
       "      <th>sdg_tag_5</th>\n",
       "      <th>thematic_tag_1</th>\n",
       "      <th>thematic_tag_2</th>\n",
       "      <th>thematic_tag_3</th>\n",
       "      <th>thematic_tag_4</th>\n",
       "      <th>thematic_tag_5</th>\n",
       "      <th>Latitude</th>\n",
       "      <th>Longitude</th>\n",
       "      <th>image_1</th>\n",
       "      <th>image_2</th>\n",
       "      <th>image_3</th>\n",
       "      <th>image_4</th>\n",
       "      <th>image_5</th>\n",
       "      <th>image_6</th>\n",
       "      <th>image_7</th>\n",
       "      <th>image_8</th>\n",
       "      <th>image_9</th>\n",
       "    </tr>\n",
       "  </thead>\n",
       "  <tbody>\n",
       "    <tr>\n",
       "      <th>0</th>\n",
       "      <td>Sun May 30 2021 13:48:32 GMT+0000 (Coordinated...</td>\n",
       "      <td>Sun May 30 2021 13:48:32</td>\n",
       "      <td>3100</td>\n",
       "      <td>Thermal</td>\n",
       "      <td>NaN</td>\n",
       "      <td>Eco Char</td>\n",
       "      <td>AccLab Algeria</td>\n",
       "      <td>Contributor 1</td>\n",
       "      <td>We upcycle wastes such as food organic wastes ...</td>\n",
       "      <td>NaN</td>\n",
       "      <td>NaN</td>\n",
       "      <td>NaN</td>\n",
       "      <td>NaN</td>\n",
       "      <td>NaN</td>\n",
       "      <td>NaN</td>\n",
       "      <td>NaN</td>\n",
       "      <td>NaN</td>\n",
       "      <td>NaN</td>\n",
       "      <td>NaN</td>\n",
       "      <td>NaN</td>\n",
       "      <td>NaN</td>\n",
       "      <td>NaN</td>\n",
       "      <td>NaN</td>\n",
       "      <td>1.0</td>\n",
       "      <td>6.0</td>\n",
       "      <td>13.0</td>\n",
       "      <td>NaN</td>\n",
       "      <td>NaN</td>\n",
       "      <td>food waste management</td>\n",
       "      <td>youth</td>\n",
       "      <td>coffee</td>\n",
       "      <td>olives</td>\n",
       "      <td>NaN</td>\n",
       "      <td>36.7607349</td>\n",
       "      <td>3.0261856</td>\n",
       "      <td>NaN</td>\n",
       "      <td>NaN</td>\n",
       "      <td>NaN</td>\n",
       "      <td>NaN</td>\n",
       "      <td>NaN</td>\n",
       "      <td>NaN</td>\n",
       "      <td>NaN</td>\n",
       "      <td>NaN</td>\n",
       "      <td>NaN</td>\n",
       "    </tr>\n",
       "    <tr>\n",
       "      <th>1</th>\n",
       "      <td>Mon Jun 28 2021 13:56:30 GMT+0000 (Coordinated...</td>\n",
       "      <td>Mon Jun 28 2021 13:56:30</td>\n",
       "      <td>3177</td>\n",
       "      <td>Wind</td>\n",
       "      <td>NaN</td>\n",
       "      <td>Wind power generator</td>\n",
       "      <td>AccLab Angola</td>\n",
       "      <td>Contributor 2</td>\n",
       "      <td>The system to obtain electrical energy through...</td>\n",
       "      <td>NaN</td>\n",
       "      <td>NaN</td>\n",
       "      <td>NaN</td>\n",
       "      <td>NaN</td>\n",
       "      <td>NaN</td>\n",
       "      <td>NaN</td>\n",
       "      <td>NaN</td>\n",
       "      <td>NaN</td>\n",
       "      <td>NaN</td>\n",
       "      <td>NaN</td>\n",
       "      <td>NaN</td>\n",
       "      <td>NaN</td>\n",
       "      <td>NaN</td>\n",
       "      <td>NaN</td>\n",
       "      <td>1.0</td>\n",
       "      <td>7.0</td>\n",
       "      <td>13.0</td>\n",
       "      <td>NaN</td>\n",
       "      <td>NaN</td>\n",
       "      <td>alternative energy</td>\n",
       "      <td>clean energy</td>\n",
       "      <td>climate change</td>\n",
       "      <td>community empowerment</td>\n",
       "      <td>NaN</td>\n",
       "      <td>-12.833226</td>\n",
       "      <td>13.6010742</td>\n",
       "      <td>file: img-10</td>\n",
       "      <td>NaN</td>\n",
       "      <td>NaN</td>\n",
       "      <td>NaN</td>\n",
       "      <td>NaN</td>\n",
       "      <td>NaN</td>\n",
       "      <td>NaN</td>\n",
       "      <td>NaN</td>\n",
       "      <td>NaN</td>\n",
       "    </tr>\n",
       "    <tr>\n",
       "      <th>2</th>\n",
       "      <td>Mon Jun 28 2021 13:32:36 GMT+0000 (Coordinated...</td>\n",
       "      <td>Mon Jun 28 2021 13:32:36</td>\n",
       "      <td>3176</td>\n",
       "      <td>Hydro</td>\n",
       "      <td>NaN</td>\n",
       "      <td>Hybrid Generator</td>\n",
       "      <td>AccLab Angola</td>\n",
       "      <td>Contributor 3</td>\n",
       "      <td>The production of fuel from water is done thro...</td>\n",
       "      <td>NaN</td>\n",
       "      <td>NaN</td>\n",
       "      <td>NaN</td>\n",
       "      <td>NaN</td>\n",
       "      <td>NaN</td>\n",
       "      <td>NaN</td>\n",
       "      <td>NaN</td>\n",
       "      <td>NaN</td>\n",
       "      <td>NaN</td>\n",
       "      <td>NaN</td>\n",
       "      <td>NaN</td>\n",
       "      <td>NaN</td>\n",
       "      <td>NaN</td>\n",
       "      <td>NaN</td>\n",
       "      <td>10.0</td>\n",
       "      <td>12.0</td>\n",
       "      <td>13.0</td>\n",
       "      <td>NaN</td>\n",
       "      <td>NaN</td>\n",
       "      <td>NaN</td>\n",
       "      <td>alternative energy</td>\n",
       "      <td>electricity</td>\n",
       "      <td>polution reduction</td>\n",
       "      <td>NaN</td>\n",
       "      <td>-8.5158356</td>\n",
       "      <td>16.0817871</td>\n",
       "      <td>file: img-121</td>\n",
       "      <td>NaN</td>\n",
       "      <td>NaN</td>\n",
       "      <td>NaN</td>\n",
       "      <td>NaN</td>\n",
       "      <td>NaN</td>\n",
       "      <td>NaN</td>\n",
       "      <td>NaN</td>\n",
       "      <td>NaN</td>\n",
       "    </tr>\n",
       "    <tr>\n",
       "      <th>3</th>\n",
       "      <td>Thu Nov 12 2020 06:03:43 GMT+0000 (Coordinated...</td>\n",
       "      <td>Thu Nov 12 2020 06:03:43</td>\n",
       "      <td>2261</td>\n",
       "      <td>Renewable general</td>\n",
       "      <td>NaN</td>\n",
       "      <td>Electric Power Microgeneration System</td>\n",
       "      <td>AccLab Angola</td>\n",
       "      <td>Contributor 4</td>\n",
       "      <td>The electric power microgeneration system is d...</td>\n",
       "      <td>NaN</td>\n",
       "      <td>NaN</td>\n",
       "      <td>NaN</td>\n",
       "      <td>NaN</td>\n",
       "      <td>NaN</td>\n",
       "      <td>NaN</td>\n",
       "      <td>NaN</td>\n",
       "      <td>NaN</td>\n",
       "      <td>NaN</td>\n",
       "      <td>NaN</td>\n",
       "      <td>NaN</td>\n",
       "      <td>NaN</td>\n",
       "      <td>NaN</td>\n",
       "      <td>NaN</td>\n",
       "      <td>1.0</td>\n",
       "      <td>7.0</td>\n",
       "      <td>9.0</td>\n",
       "      <td>10.0</td>\n",
       "      <td>11.0</td>\n",
       "      <td>clean energy</td>\n",
       "      <td>community empowerment</td>\n",
       "      <td>rural electrification</td>\n",
       "      <td>social justice</td>\n",
       "      <td>welfare</td>\n",
       "      <td>-12.776115</td>\n",
       "      <td>15.687688</td>\n",
       "      <td>file: img-230</td>\n",
       "      <td>NaN</td>\n",
       "      <td>NaN</td>\n",
       "      <td>NaN</td>\n",
       "      <td>NaN</td>\n",
       "      <td>NaN</td>\n",
       "      <td>NaN</td>\n",
       "      <td>NaN</td>\n",
       "      <td>NaN</td>\n",
       "    </tr>\n",
       "    <tr>\n",
       "      <th>4</th>\n",
       "      <td>Wed Jul 21 2021 10:12:39 GMT+0000 (Coordinated...</td>\n",
       "      <td>Wed Jul 21 2021 10:12:39</td>\n",
       "      <td>3236</td>\n",
       "      <td>Household application</td>\n",
       "      <td>x</td>\n",
       "      <td>Solar Cooker</td>\n",
       "      <td>AccLab Angola</td>\n",
       "      <td>Contributor 5</td>\n",
       "      <td>Solar Cooker\\n\\n\\n\\t\\t\\t\\n\\n\\n\\t\\t\\t\\n\\n\\n\\t\\t\\t</td>\n",
       "      <td>NaN</td>\n",
       "      <td>NaN</td>\n",
       "      <td>NaN</td>\n",
       "      <td>NaN</td>\n",
       "      <td>NaN</td>\n",
       "      <td>NaN</td>\n",
       "      <td>NaN</td>\n",
       "      <td>NaN</td>\n",
       "      <td>NaN</td>\n",
       "      <td>NaN</td>\n",
       "      <td>NaN</td>\n",
       "      <td>NaN</td>\n",
       "      <td>NaN</td>\n",
       "      <td>NaN</td>\n",
       "      <td>7.0</td>\n",
       "      <td>12.0</td>\n",
       "      <td>13.0</td>\n",
       "      <td>NaN</td>\n",
       "      <td>NaN</td>\n",
       "      <td>innovation</td>\n",
       "      <td>polution reduction</td>\n",
       "      <td>solar energy</td>\n",
       "      <td>NaN</td>\n",
       "      <td>NaN</td>\n",
       "      <td>-12.86536</td>\n",
       "      <td>13.8098145</td>\n",
       "      <td>file: img-305</td>\n",
       "      <td>NaN</td>\n",
       "      <td>NaN</td>\n",
       "      <td>NaN</td>\n",
       "      <td>NaN</td>\n",
       "      <td>NaN</td>\n",
       "      <td>NaN</td>\n",
       "      <td>NaN</td>\n",
       "      <td>NaN</td>\n",
       "    </tr>\n",
       "    <tr>\n",
       "      <th>5</th>\n",
       "      <td>Thu Jul 22 2021 06:51:22 GMT+0000 (Coordinated...</td>\n",
       "      <td>Thu Jul 22 2021 06:51:22</td>\n",
       "      <td>3240</td>\n",
       "      <td>Thermal</td>\n",
       "      <td>NaN</td>\n",
       "      <td>Biogas production through a Biodigester</td>\n",
       "      <td>AccLab Angola</td>\n",
       "      <td>Contributor 6</td>\n",
       "      <td>Biogas is produced from cattle manure and orga...</td>\n",
       "      <td>NaN</td>\n",
       "      <td>NaN</td>\n",
       "      <td>NaN</td>\n",
       "      <td>NaN</td>\n",
       "      <td>NaN</td>\n",
       "      <td>NaN</td>\n",
       "      <td>NaN</td>\n",
       "      <td>NaN</td>\n",
       "      <td>NaN</td>\n",
       "      <td>NaN</td>\n",
       "      <td>NaN</td>\n",
       "      <td>NaN</td>\n",
       "      <td>NaN</td>\n",
       "      <td>NaN</td>\n",
       "      <td>7.0</td>\n",
       "      <td>13.0</td>\n",
       "      <td>NaN</td>\n",
       "      <td>NaN</td>\n",
       "      <td>NaN</td>\n",
       "      <td>alternative energy</td>\n",
       "      <td>biogas</td>\n",
       "      <td>environment friendly</td>\n",
       "      <td>NaN</td>\n",
       "      <td>NaN</td>\n",
       "      <td>-12.910466</td>\n",
       "      <td>14.0356608</td>\n",
       "      <td>file: img-324</td>\n",
       "      <td>NaN</td>\n",
       "      <td>NaN</td>\n",
       "      <td>NaN</td>\n",
       "      <td>NaN</td>\n",
       "      <td>NaN</td>\n",
       "      <td>NaN</td>\n",
       "      <td>NaN</td>\n",
       "      <td>NaN</td>\n",
       "    </tr>\n",
       "    <tr>\n",
       "      <th>6</th>\n",
       "      <td>Wed Apr 06 2022 17:14:25 GMT+0000 (Coordinated...</td>\n",
       "      <td>Wed Apr 06 2022 17:14:25</td>\n",
       "      <td>4384</td>\n",
       "      <td>Solar</td>\n",
       "      <td>NaN</td>\n",
       "      <td>A circuit that provides high quality solar lig...</td>\n",
       "      <td>AccLab Argentina</td>\n",
       "      <td>Contributor 7</td>\n",
       "      <td>In many towns in Argentina, power lines become...</td>\n",
       "      <td>http://proyectoluz.org</td>\n",
       "      <td>x</td>\n",
       "      <td>NaN</td>\n",
       "      <td>x</td>\n",
       "      <td>NaN</td>\n",
       "      <td>x</td>\n",
       "      <td>NaN</td>\n",
       "      <td>NaN</td>\n",
       "      <td>NaN</td>\n",
       "      <td>Prototype system</td>\n",
       "      <td>Liter of Light has installed more than 350,000...</td>\n",
       "      <td>https://www.youtube.com/watch?v=o-Fpsw_yYPg</td>\n",
       "      <td>The lithium phosphate battery gives 12-16 hour...</td>\n",
       "      <td>NaN</td>\n",
       "      <td>7.0</td>\n",
       "      <td>9.0</td>\n",
       "      <td>11.0</td>\n",
       "      <td>12.0</td>\n",
       "      <td>13.0</td>\n",
       "      <td>affordable energy</td>\n",
       "      <td>alternative energy</td>\n",
       "      <td>sustainable energy</td>\n",
       "      <td>sustainable manufacturing, cooperativism</td>\n",
       "      <td>the vulnerable members of our society</td>\n",
       "      <td>-34.996496</td>\n",
       "      <td>-64.967282</td>\n",
       "      <td>file: img-525</td>\n",
       "      <td>file: img-526</td>\n",
       "      <td>NaN</td>\n",
       "      <td>NaN</td>\n",
       "      <td>NaN</td>\n",
       "      <td>NaN</td>\n",
       "      <td>NaN</td>\n",
       "      <td>NaN</td>\n",
       "      <td>NaN</td>\n",
       "    </tr>\n",
       "    <tr>\n",
       "      <th>7</th>\n",
       "      <td>Tue Apr 12 2022 17:16:15 GMT+0000 (Coordinated...</td>\n",
       "      <td>Tue Apr 12 2022 17:16:15</td>\n",
       "      <td>4509</td>\n",
       "      <td>Renewable general</td>\n",
       "      <td>NaN</td>\n",
       "      <td>Social plug-ins that provide hot showers: Suma...</td>\n",
       "      <td>AccLab Argentina</td>\n",
       "      <td>Contributor 8</td>\n",
       "      <td>The purpose of this project is to meet people'...</td>\n",
       "      <td>https://www.sumandoenergias.org/#what-we-do</td>\n",
       "      <td>x</td>\n",
       "      <td>NaN</td>\n",
       "      <td>x</td>\n",
       "      <td>NaN</td>\n",
       "      <td>x</td>\n",
       "      <td>NaN</td>\n",
       "      <td>NaN</td>\n",
       "      <td>NaN</td>\n",
       "      <td>Prototype system</td>\n",
       "      <td>So far, over one hundred solar water heaters a...</td>\n",
       "      <td>https://www.youtube.com/embed/yqc5vT8CjIE&amp;amp;...</td>\n",
       "      <td>80% of the year, the family has free hot water...</td>\n",
       "      <td>NaN</td>\n",
       "      <td>7.0</td>\n",
       "      <td>9.0</td>\n",
       "      <td>10.0</td>\n",
       "      <td>11.0</td>\n",
       "      <td>NaN</td>\n",
       "      <td>accessibility</td>\n",
       "      <td>inclusion</td>\n",
       "      <td>solar water heater</td>\n",
       "      <td>sustainable energy</td>\n",
       "      <td>the vulnerable members of our society</td>\n",
       "      <td>-34.996496</td>\n",
       "      <td>-64.967282</td>\n",
       "      <td>file: img-357</td>\n",
       "      <td>file: img-358</td>\n",
       "      <td>NaN</td>\n",
       "      <td>NaN</td>\n",
       "      <td>NaN</td>\n",
       "      <td>NaN</td>\n",
       "      <td>NaN</td>\n",
       "      <td>NaN</td>\n",
       "      <td>NaN</td>\n",
       "    </tr>\n",
       "    <tr>\n",
       "      <th>8</th>\n",
       "      <td>Tue Apr 12 2022 17:32:09 GMT+0000 (Coordinated...</td>\n",
       "      <td>Tue Apr 12 2022 17:32:09</td>\n",
       "      <td>4510</td>\n",
       "      <td>Solar</td>\n",
       "      <td>NaN</td>\n",
       "      <td>Hot water for showers and air heating systems:...</td>\n",
       "      <td>AccLab Argentina</td>\n",
       "      <td>Contributor 9</td>\n",
       "      <td>This is a socio-environmental project which ob...</td>\n",
       "      <td>https://duchadesol5.webnode.com</td>\n",
       "      <td>x</td>\n",
       "      <td>NaN</td>\n",
       "      <td>x</td>\n",
       "      <td>NaN</td>\n",
       "      <td>x</td>\n",
       "      <td>NaN</td>\n",
       "      <td>NaN</td>\n",
       "      <td>NaN</td>\n",
       "      <td>Prototype system</td>\n",
       "      <td>The project has reached over 500 homes directl...</td>\n",
       "      <td>https://www.youtube.com/embed/uLfx8mAgnaM</td>\n",
       "      <td>With this solar water heater, 70% of the fuel ...</td>\n",
       "      <td>NaN</td>\n",
       "      <td>7.0</td>\n",
       "      <td>9.0</td>\n",
       "      <td>10.0</td>\n",
       "      <td>11.0</td>\n",
       "      <td>NaN</td>\n",
       "      <td>accessibility</td>\n",
       "      <td>solar water heater</td>\n",
       "      <td>sustainable energy</td>\n",
       "      <td>the vulnerable members of our society</td>\n",
       "      <td>NaN</td>\n",
       "      <td>-34.787093</td>\n",
       "      <td>-68.438187</td>\n",
       "      <td>file: img-214</td>\n",
       "      <td>file: img-215</td>\n",
       "      <td>NaN</td>\n",
       "      <td>NaN</td>\n",
       "      <td>NaN</td>\n",
       "      <td>NaN</td>\n",
       "      <td>NaN</td>\n",
       "      <td>NaN</td>\n",
       "      <td>NaN</td>\n",
       "    </tr>\n",
       "    <tr>\n",
       "      <th>9</th>\n",
       "      <td>Fri Apr 22 2022 15:06:22 GMT+0000 (Coordinated...</td>\n",
       "      <td>Fri Apr 22 2022 15:06:22</td>\n",
       "      <td>4546</td>\n",
       "      <td>Solar</td>\n",
       "      <td>NaN</td>\n",
       "      <td>Solar Electric Mobility Prototype: EcoAndina F...</td>\n",
       "      <td>AccLab Argentina</td>\n",
       "      <td>Contributor 10</td>\n",
       "      <td>The concept of electric solar mobility arises ...</td>\n",
       "      <td>https://www.ecoandina.org/proyectos/proyectos-...</td>\n",
       "      <td>x</td>\n",
       "      <td>NaN</td>\n",
       "      <td>x</td>\n",
       "      <td>NaN</td>\n",
       "      <td>x</td>\n",
       "      <td>NaN</td>\n",
       "      <td>NaN</td>\n",
       "      <td>NaN</td>\n",
       "      <td>Prototype system</td>\n",
       "      <td>More than 500 people, including decision make...</td>\n",
       "      <td>NaN</td>\n",
       "      <td>People who work in the field and teachers woul...</td>\n",
       "      <td>NaN</td>\n",
       "      <td>7.0</td>\n",
       "      <td>9.0</td>\n",
       "      <td>10.0</td>\n",
       "      <td>11.0</td>\n",
       "      <td>NaN</td>\n",
       "      <td>construction</td>\n",
       "      <td>inclusion</td>\n",
       "      <td>movilidad</td>\n",
       "      <td>renewable energy</td>\n",
       "      <td>sustainability strategy</td>\n",
       "      <td>-34.996496</td>\n",
       "      <td>-64.967282</td>\n",
       "      <td>file: img-51</td>\n",
       "      <td>NaN</td>\n",
       "      <td>NaN</td>\n",
       "      <td>NaN</td>\n",
       "      <td>NaN</td>\n",
       "      <td>NaN</td>\n",
       "      <td>NaN</td>\n",
       "      <td>NaN</td>\n",
       "      <td>NaN</td>\n",
       "    </tr>\n",
       "  </tbody>\n",
       "</table>\n",
       "</div>"
      ],
      "text/plain": [
       "                                   contribution_date  \\\n",
       "0  Sun May 30 2021 13:48:32 GMT+0000 (Coordinated...   \n",
       "1  Mon Jun 28 2021 13:56:30 GMT+0000 (Coordinated...   \n",
       "2  Mon Jun 28 2021 13:32:36 GMT+0000 (Coordinated...   \n",
       "3  Thu Nov 12 2020 06:03:43 GMT+0000 (Coordinated...   \n",
       "4  Wed Jul 21 2021 10:12:39 GMT+0000 (Coordinated...   \n",
       "5  Thu Jul 22 2021 06:51:22 GMT+0000 (Coordinated...   \n",
       "6  Wed Apr 06 2022 17:14:25 GMT+0000 (Coordinated...   \n",
       "7  Tue Apr 12 2022 17:16:15 GMT+0000 (Coordinated...   \n",
       "8  Tue Apr 12 2022 17:32:09 GMT+0000 (Coordinated...   \n",
       "9  Fri Apr 22 2022 15:06:22 GMT+0000 (Coordinated...   \n",
       "\n",
       "                   new_date    id          energy_source clean_cooking  \\\n",
       "0  Sun May 30 2021 13:48:32  3100                Thermal           NaN   \n",
       "1  Mon Jun 28 2021 13:56:30  3177                   Wind           NaN   \n",
       "2  Mon Jun 28 2021 13:32:36  3176                  Hydro           NaN   \n",
       "3  Thu Nov 12 2020 06:03:43  2261      Renewable general           NaN   \n",
       "4  Wed Jul 21 2021 10:12:39  3236  Household application             x   \n",
       "5  Thu Jul 22 2021 06:51:22  3240                Thermal           NaN   \n",
       "6  Wed Apr 06 2022 17:14:25  4384                 Solar            NaN   \n",
       "7  Tue Apr 12 2022 17:16:15  4509      Renewable general           NaN   \n",
       "8  Tue Apr 12 2022 17:32:09  4510                  Solar           NaN   \n",
       "9  Fri Apr 22 2022 15:06:22  4546                  Solar           NaN   \n",
       "\n",
       "                                               title            mapper  \\\n",
       "0                                           Eco Char    AccLab Algeria   \n",
       "1                               Wind power generator     AccLab Angola   \n",
       "2                                   Hybrid Generator     AccLab Angola   \n",
       "3              Electric Power Microgeneration System     AccLab Angola   \n",
       "4                                       Solar Cooker     AccLab Angola   \n",
       "5            Biogas production through a Biodigester     AccLab Angola   \n",
       "6  A circuit that provides high quality solar lig...  AccLab Argentina   \n",
       "7  Social plug-ins that provide hot showers: Suma...  AccLab Argentina   \n",
       "8  Hot water for showers and air heating systems:...  AccLab Argentina   \n",
       "9  Solar Electric Mobility Prototype: EcoAndina F...  AccLab Argentina   \n",
       "\n",
       "      contributor                         purp_prob_sol_description)  \\\n",
       "0   Contributor 1  We upcycle wastes such as food organic wastes ...   \n",
       "1   Contributor 2  The system to obtain electrical energy through...   \n",
       "2   Contributor 3  The production of fuel from water is done thro...   \n",
       "3   Contributor 4  The electric power microgeneration system is d...   \n",
       "4   Contributor 5   Solar Cooker\\n\\n\\n\\t\\t\\t\\n\\n\\n\\t\\t\\t\\n\\n\\n\\t\\t\\t   \n",
       "5   Contributor 6  Biogas is produced from cattle manure and orga...   \n",
       "6   Contributor 7  In many towns in Argentina, power lines become...   \n",
       "7   Contributor 8  The purpose of this project is to meet people'...   \n",
       "8   Contributor 9  This is a socio-environmental project which ob...   \n",
       "9  Contributor 10  The concept of electric solar mobility arises ...   \n",
       "\n",
       "                                       solution_link sol_open_source  \\\n",
       "0                                                NaN             NaN   \n",
       "1                                                NaN             NaN   \n",
       "2                                                NaN             NaN   \n",
       "3                                                NaN             NaN   \n",
       "4                                                NaN             NaN   \n",
       "5                                                NaN             NaN   \n",
       "6                             http://proyectoluz.org               x   \n",
       "7        https://www.sumandoenergias.org/#what-we-do               x   \n",
       "8                    https://duchadesol5.webnode.com               x   \n",
       "9  https://www.ecoandina.org/proyectos/proyectos-...               x   \n",
       "\n",
       "  sol_Intellectual_Property sol_replication_training total_sol_unit_cost  \\\n",
       "0                       NaN                      NaN                 NaN   \n",
       "1                       NaN                      NaN                 NaN   \n",
       "2                       NaN                      NaN                 NaN   \n",
       "3                       NaN                      NaN                 NaN   \n",
       "4                       NaN                      NaN                 NaN   \n",
       "5                       NaN                      NaN                 NaN   \n",
       "6                       NaN                        x                 NaN   \n",
       "7                       NaN                        x                 NaN   \n",
       "8                       NaN                        x                 NaN   \n",
       "9                       NaN                        x                 NaN   \n",
       "\n",
       "  prototype product product_availability product_advance_order  \\\n",
       "0       NaN     NaN                  NaN                   NaN   \n",
       "1       NaN     NaN                  NaN                   NaN   \n",
       "2       NaN     NaN                  NaN                   NaN   \n",
       "3       NaN     NaN                  NaN                   NaN   \n",
       "4       NaN     NaN                  NaN                   NaN   \n",
       "5       NaN     NaN                  NaN                   NaN   \n",
       "6         x     NaN                  NaN                   NaN   \n",
       "7         x     NaN                  NaN                   NaN   \n",
       "8         x     NaN                  NaN                   NaN   \n",
       "9         x     NaN                  NaN                   NaN   \n",
       "\n",
       "       solution_trl                                  solution_diffused  \\\n",
       "0               NaN                                                NaN   \n",
       "1               NaN                                                NaN   \n",
       "2               NaN                                                NaN   \n",
       "3               NaN                                                NaN   \n",
       "4               NaN                                                NaN   \n",
       "5               NaN                                                NaN   \n",
       "6  Prototype system  Liter of Light has installed more than 350,000...   \n",
       "7  Prototype system  So far, over one hundred solar water heaters a...   \n",
       "8  Prototype system  The project has reached over 500 homes directl...   \n",
       "9  Prototype system   More than 500 people, including decision make...   \n",
       "\n",
       "                                   end-user_feedback  \\\n",
       "0                                                NaN   \n",
       "1                                                NaN   \n",
       "2                                                NaN   \n",
       "3                                                NaN   \n",
       "4                                                NaN   \n",
       "5                                                NaN   \n",
       "6        https://www.youtube.com/watch?v=o-Fpsw_yYPg   \n",
       "7  https://www.youtube.com/embed/yqc5vT8CjIE&amp;...   \n",
       "8          https://www.youtube.com/embed/uLfx8mAgnaM   \n",
       "9                                                NaN   \n",
       "\n",
       "                               efficiency_benchmarks bottlenecks  sdg_tag_1  \\\n",
       "0                                                NaN         NaN        1.0   \n",
       "1                                                NaN         NaN        1.0   \n",
       "2                                                NaN         NaN       10.0   \n",
       "3                                                NaN         NaN        1.0   \n",
       "4                                                NaN         NaN        7.0   \n",
       "5                                                NaN         NaN        7.0   \n",
       "6  The lithium phosphate battery gives 12-16 hour...         NaN        7.0   \n",
       "7  80% of the year, the family has free hot water...         NaN        7.0   \n",
       "8  With this solar water heater, 70% of the fuel ...         NaN        7.0   \n",
       "9  People who work in the field and teachers woul...         NaN        7.0   \n",
       "\n",
       "   sdg_tag_2  sdg_tag_3  sdg_tag_4  sdg_tag_5         thematic_tag_1  \\\n",
       "0        6.0       13.0        NaN        NaN  food waste management   \n",
       "1        7.0       13.0        NaN        NaN     alternative energy   \n",
       "2       12.0       13.0        NaN        NaN                    NaN   \n",
       "3        7.0        9.0       10.0       11.0           clean energy   \n",
       "4       12.0       13.0        NaN        NaN             innovation   \n",
       "5       13.0        NaN        NaN        NaN     alternative energy   \n",
       "6        9.0       11.0       12.0       13.0      affordable energy   \n",
       "7        9.0       10.0       11.0        NaN          accessibility   \n",
       "8        9.0       10.0       11.0        NaN          accessibility   \n",
       "9        9.0       10.0       11.0        NaN           construction   \n",
       "\n",
       "          thematic_tag_2         thematic_tag_3  \\\n",
       "0                  youth                 coffee   \n",
       "1           clean energy         climate change   \n",
       "2     alternative energy            electricity   \n",
       "3  community empowerment  rural electrification   \n",
       "4     polution reduction           solar energy   \n",
       "5                 biogas   environment friendly   \n",
       "6     alternative energy     sustainable energy   \n",
       "7              inclusion     solar water heater   \n",
       "8     solar water heater     sustainable energy   \n",
       "9              inclusion              movilidad   \n",
       "\n",
       "                             thematic_tag_4  \\\n",
       "0                                    olives   \n",
       "1                     community empowerment   \n",
       "2                        polution reduction   \n",
       "3                            social justice   \n",
       "4                                       NaN   \n",
       "5                                       NaN   \n",
       "6  sustainable manufacturing, cooperativism   \n",
       "7                        sustainable energy   \n",
       "8     the vulnerable members of our society   \n",
       "9                          renewable energy   \n",
       "\n",
       "                          thematic_tag_5   Latitude   Longitude   \\\n",
       "0                                    NaN  36.7607349   3.0261856   \n",
       "1                                    NaN  -12.833226  13.6010742   \n",
       "2                                    NaN  -8.5158356  16.0817871   \n",
       "3                                welfare  -12.776115   15.687688   \n",
       "4                                    NaN   -12.86536  13.8098145   \n",
       "5                                    NaN  -12.910466  14.0356608   \n",
       "6  the vulnerable members of our society  -34.996496  -64.967282   \n",
       "7  the vulnerable members of our society  -34.996496  -64.967282   \n",
       "8                                    NaN  -34.787093  -68.438187   \n",
       "9                sustainability strategy  -34.996496  -64.967282   \n",
       "\n",
       "         image_1        image_2 image_3 image_4 image_5 image_6 image_7  \\\n",
       "0            NaN            NaN     NaN     NaN     NaN     NaN     NaN   \n",
       "1   file: img-10            NaN     NaN     NaN     NaN     NaN     NaN   \n",
       "2  file: img-121            NaN     NaN     NaN     NaN     NaN     NaN   \n",
       "3  file: img-230            NaN     NaN     NaN     NaN     NaN     NaN   \n",
       "4  file: img-305            NaN     NaN     NaN     NaN     NaN     NaN   \n",
       "5  file: img-324            NaN     NaN     NaN     NaN     NaN     NaN   \n",
       "6  file: img-525  file: img-526     NaN     NaN     NaN     NaN     NaN   \n",
       "7  file: img-357  file: img-358     NaN     NaN     NaN     NaN     NaN   \n",
       "8  file: img-214  file: img-215     NaN     NaN     NaN     NaN     NaN   \n",
       "9   file: img-51            NaN     NaN     NaN     NaN     NaN     NaN   \n",
       "\n",
       "  image_8 image_9  \n",
       "0     NaN     NaN  \n",
       "1     NaN     NaN  \n",
       "2     NaN     NaN  \n",
       "3     NaN     NaN  \n",
       "4     NaN     NaN  \n",
       "5     NaN     NaN  \n",
       "6     NaN     NaN  \n",
       "7     NaN     NaN  \n",
       "8     NaN     NaN  \n",
       "9     NaN     NaN  "
      ]
     },
     "execution_count": 12,
     "metadata": {},
     "output_type": "execute_result"
    }
   ],
   "source": [
    "df.head(10)"
   ]
  },
  {
   "cell_type": "markdown",
   "id": "10abdf9e-6f12-4feb-bc2d-2cc68c300737",
   "metadata": {},
   "source": [
    "When looking at regional distribution of solutions, please note that UNDP does not apply a geographic clustering of countries, but a political clustering. Countires are hence grouped via Regional Bureau.\n",
    "\n",
    "Let's define Regional Bureau."
   ]
  },
  {
   "cell_type": "code",
   "execution_count": 13,
   "id": "2fe90dad-27a7-4f2a-8cce-df6eb6f4568b",
   "metadata": {
    "jupyter": {
     "source_hidden": true
    },
    "tags": []
   },
   "outputs": [],
   "source": [
    "rba = ('Guinea',\n",
    "'Guinea-Bissau',\n",
    "'Mauritania',\n",
    "'Mozambique', \n",
    "'Nigeria',\n",
    "'Senegal',\n",
    "'Cameroon',\n",
    "'Mauritius (& Seychelles)',\n",
    "'Angola',\n",
    "'Benin',\n",
    "'Burkina Faso',\n",
    "'Cape Verde',\n",
    "'Chad',\n",
    "'Congo',\n",
    "'Democratic Republic Congo',\n",
    "\"Cote d'Ivoire\",\n",
    "'Eswatini',\n",
    "'Ethiopia',\n",
    "'Ghana',\n",
    "'Kenya',\n",
    "'Lesotho',\n",
    "'Malawi',\n",
    "'Mali',\n",
    "'Namibia',\n",
    "'Niger',\n",
    "'Rwanda',\n",
    "'Sierra Leone',\n",
    "'South Africa',\n",
    "'South Sudan',\n",
    "'Tanzania',\n",
    "'The Gambia',\n",
    "'Togo',\n",
    "'Uganda',\n",
    "'Zambia',\n",
    "'Zimbabwe')\n",
    "\n",
    "rba_dict = {elt: 'rb_africa' for elt in rba}"
   ]
  },
  {
   "cell_type": "code",
   "execution_count": 14,
   "id": "889486cc-f03d-4cdf-bc9e-dcf82dcf06ab",
   "metadata": {
    "jupyter": {
     "source_hidden": true
    },
    "tags": []
   },
   "outputs": [],
   "source": [
    "rbap = ('Bhutan',\n",
    "'Indonesia',\n",
    "'Maldives',\n",
    "'Mongolia',\n",
    "'Myanmar',\n",
    "'Thailand',\n",
    "'Samoa (& Cook Islands, Niue, Tokelau)',\n",
    "'Bangladesh',\n",
    "'Cambodia',\n",
    "'India',\n",
    "'Lao PDR',\n",
    "'Lao',\n",
    "'Malaysia',\n",
    "'Nepal',\n",
    "'Pacific-Fiji',\n",
    "'Pacific',\n",
    "'Pakistan',\n",
    "'Philippines',\n",
    "'Timor Leste',\n",
    "'Vietnam')\n",
    "rbap_dict = {elt: 'rb_asia_pacific' for elt in rbap}"
   ]
  },
  {
   "cell_type": "code",
   "execution_count": 15,
   "id": "69dfa6a8-628c-46d3-a9dc-6cea5b4e5470",
   "metadata": {
    "jupyter": {
     "source_hidden": true
    },
    "tags": []
   },
   "outputs": [],
   "source": [
    "rbas = ('Egypt',\n",
    "'Syria',\n",
    "'Saudi Arabia (self starter)',\n",
    "'Somalia',\n",
    "'Algeria',\n",
    "'Iraq',\n",
    "'Jordan',\n",
    "'Lebanon',\n",
    "'Libya',\n",
    "'Morocco',\n",
    "'Palestine',\n",
    "'Sudan',\n",
    "'Tunisia')\n",
    "rbas_dict = {elt: 'rb_arab_states' for elt in rbas}"
   ]
  },
  {
   "cell_type": "code",
   "execution_count": 16,
   "id": "dc409f7f-4b4d-400c-b773-92c59ac4a3f8",
   "metadata": {
    "jupyter": {
     "source_hidden": true
    },
    "tags": []
   },
   "outputs": [],
   "source": [
    "rbec = ('Belarus, Republic of',\n",
    "'Georgia, Republic of',\n",
    "'Kazakhstan',\n",
    "'Kyrgyzstan',\n",
    "'North Macedonia',\n",
    "'Azerbaijan',\n",
    "'Bosnia & Herzegovina',\n",
    "'Serbia',\n",
    "'Turkey',\n",
    "'Ukraine',\n",
    "'Uzbekistan')\n",
    "rbec_dict = {elt: 'rb_europe_cis' for elt in rbec}"
   ]
  },
  {
   "cell_type": "code",
   "execution_count": 17,
   "id": "19e1f73c-71b7-4f97-b44a-12a94a51ff9e",
   "metadata": {
    "jupyter": {
     "source_hidden": true
    },
    "tags": []
   },
   "outputs": [],
   "source": [
    "rblac = ('Bolivia',\n",
    "'El Salvador',\n",
    "'Guatemala',\n",
    "'Haiti',\n",
    "'Trinidad & Tobago',\n",
    "'Guyana & Suriname',\n",
    "'Peru',\n",
    "'Panama',\n",
    "'Uruguay (self starter)',\n",
    "'Uruguay',\n",
    "'Argentina',\n",
    "'Barbados',\n",
    "'Colombia',\n",
    "'Dominican Republic',\n",
    "'Ecuador',\n",
    "'Mexico',\n",
    "'Paraguay')\n",
    "rblac_dict = {elt: 'rb_latin_america' for elt in rblac}"
   ]
  },
  {
   "cell_type": "code",
   "execution_count": 18,
   "id": "479e60c2-e360-4920-9e5a-4976e34f5631",
   "metadata": {
    "tags": []
   },
   "outputs": [],
   "source": [
    "# Let's create a master regional bureau dict\n",
    "rb_master = rba_dict | rbap_dict | rbas_dict | rbec_dict | rblac_dict"
   ]
  },
  {
   "cell_type": "code",
   "execution_count": 19,
   "id": "69034e89-d2c9-487f-b464-60b208097f19",
   "metadata": {},
   "outputs": [
    {
     "name": "stderr",
     "output_type": "stream",
     "text": [
      "C:\\Users\\FOZING\\AppData\\Local\\Temp\\ipykernel_195648\\1411820144.py:2: FutureWarning: The default value of regex will change from True to False in a future version. In addition, single character regular expressions will *not* be treated as literal strings when regex=True.\n",
      "  df['country'] = df['mapper'].str.replace('(', '').str.replace(')', '').str.replace('AccLab ', '').str.replace('Honey Bee Network ', '').str.strip()\n"
     ]
    }
   ],
   "source": [
    "# Creation of the country variable\n",
    "df['country'] = df['mapper'].str.replace('(', '').str.replace(')', '').str.replace('AccLab ', '').str.replace('Honey Bee Network ', '').str.strip()"
   ]
  },
  {
   "cell_type": "code",
   "execution_count": 20,
   "id": "bb5efe04-b4b2-4cff-9683-8add73310698",
   "metadata": {},
   "outputs": [],
   "source": [
    "# Creation of the regional bureau variable\n",
    "df['regional_bureau'] = df['country'].apply(lambda value: rb_master[value])"
   ]
  },
  {
   "cell_type": "code",
   "execution_count": 21,
   "id": "a31b325d-8d25-4721-ab40-cd4851eef462",
   "metadata": {},
   "outputs": [
    {
     "data": {
      "text/html": [
       "<div>\n",
       "<style scoped>\n",
       "    .dataframe tbody tr th:only-of-type {\n",
       "        vertical-align: middle;\n",
       "    }\n",
       "\n",
       "    .dataframe tbody tr th {\n",
       "        vertical-align: top;\n",
       "    }\n",
       "\n",
       "    .dataframe thead th {\n",
       "        text-align: right;\n",
       "    }\n",
       "</style>\n",
       "<table border=\"1\" class=\"dataframe\">\n",
       "  <thead>\n",
       "    <tr style=\"text-align: right;\">\n",
       "      <th></th>\n",
       "      <th>contribution_date</th>\n",
       "      <th>new_date</th>\n",
       "      <th>id</th>\n",
       "      <th>energy_source</th>\n",
       "      <th>clean_cooking</th>\n",
       "      <th>title</th>\n",
       "      <th>mapper</th>\n",
       "      <th>contributor</th>\n",
       "      <th>purp_prob_sol_description)</th>\n",
       "      <th>solution_link</th>\n",
       "      <th>sol_open_source</th>\n",
       "      <th>sol_Intellectual_Property</th>\n",
       "      <th>sol_replication_training</th>\n",
       "      <th>total_sol_unit_cost</th>\n",
       "      <th>prototype</th>\n",
       "      <th>product</th>\n",
       "      <th>product_availability</th>\n",
       "      <th>product_advance_order</th>\n",
       "      <th>solution_trl</th>\n",
       "      <th>solution_diffused</th>\n",
       "      <th>end-user_feedback</th>\n",
       "      <th>efficiency_benchmarks</th>\n",
       "      <th>...</th>\n",
       "      <th>sdg_tag_2</th>\n",
       "      <th>sdg_tag_3</th>\n",
       "      <th>sdg_tag_4</th>\n",
       "      <th>sdg_tag_5</th>\n",
       "      <th>thematic_tag_1</th>\n",
       "      <th>thematic_tag_2</th>\n",
       "      <th>thematic_tag_3</th>\n",
       "      <th>thematic_tag_4</th>\n",
       "      <th>thematic_tag_5</th>\n",
       "      <th>Latitude</th>\n",
       "      <th>Longitude</th>\n",
       "      <th>image_1</th>\n",
       "      <th>image_2</th>\n",
       "      <th>image_3</th>\n",
       "      <th>image_4</th>\n",
       "      <th>image_5</th>\n",
       "      <th>image_6</th>\n",
       "      <th>image_7</th>\n",
       "      <th>image_8</th>\n",
       "      <th>image_9</th>\n",
       "      <th>country</th>\n",
       "      <th>regional_bureau</th>\n",
       "    </tr>\n",
       "  </thead>\n",
       "  <tbody>\n",
       "    <tr>\n",
       "      <th>0</th>\n",
       "      <td>Sun May 30 2021 13:48:32 GMT+0000 (Coordinated...</td>\n",
       "      <td>Sun May 30 2021 13:48:32</td>\n",
       "      <td>3100</td>\n",
       "      <td>Thermal</td>\n",
       "      <td>NaN</td>\n",
       "      <td>Eco Char</td>\n",
       "      <td>AccLab Algeria</td>\n",
       "      <td>Contributor 1</td>\n",
       "      <td>We upcycle wastes such as food organic wastes ...</td>\n",
       "      <td>NaN</td>\n",
       "      <td>NaN</td>\n",
       "      <td>NaN</td>\n",
       "      <td>NaN</td>\n",
       "      <td>NaN</td>\n",
       "      <td>NaN</td>\n",
       "      <td>NaN</td>\n",
       "      <td>NaN</td>\n",
       "      <td>NaN</td>\n",
       "      <td>NaN</td>\n",
       "      <td>NaN</td>\n",
       "      <td>NaN</td>\n",
       "      <td>NaN</td>\n",
       "      <td>...</td>\n",
       "      <td>6.0</td>\n",
       "      <td>13.0</td>\n",
       "      <td>NaN</td>\n",
       "      <td>NaN</td>\n",
       "      <td>food waste management</td>\n",
       "      <td>youth</td>\n",
       "      <td>coffee</td>\n",
       "      <td>olives</td>\n",
       "      <td>NaN</td>\n",
       "      <td>36.7607349</td>\n",
       "      <td>3.0261856</td>\n",
       "      <td>NaN</td>\n",
       "      <td>NaN</td>\n",
       "      <td>NaN</td>\n",
       "      <td>NaN</td>\n",
       "      <td>NaN</td>\n",
       "      <td>NaN</td>\n",
       "      <td>NaN</td>\n",
       "      <td>NaN</td>\n",
       "      <td>NaN</td>\n",
       "      <td>Algeria</td>\n",
       "      <td>rb_arab_states</td>\n",
       "    </tr>\n",
       "    <tr>\n",
       "      <th>1</th>\n",
       "      <td>Mon Jun 28 2021 13:56:30 GMT+0000 (Coordinated...</td>\n",
       "      <td>Mon Jun 28 2021 13:56:30</td>\n",
       "      <td>3177</td>\n",
       "      <td>Wind</td>\n",
       "      <td>NaN</td>\n",
       "      <td>Wind power generator</td>\n",
       "      <td>AccLab Angola</td>\n",
       "      <td>Contributor 2</td>\n",
       "      <td>The system to obtain electrical energy through...</td>\n",
       "      <td>NaN</td>\n",
       "      <td>NaN</td>\n",
       "      <td>NaN</td>\n",
       "      <td>NaN</td>\n",
       "      <td>NaN</td>\n",
       "      <td>NaN</td>\n",
       "      <td>NaN</td>\n",
       "      <td>NaN</td>\n",
       "      <td>NaN</td>\n",
       "      <td>NaN</td>\n",
       "      <td>NaN</td>\n",
       "      <td>NaN</td>\n",
       "      <td>NaN</td>\n",
       "      <td>...</td>\n",
       "      <td>7.0</td>\n",
       "      <td>13.0</td>\n",
       "      <td>NaN</td>\n",
       "      <td>NaN</td>\n",
       "      <td>alternative energy</td>\n",
       "      <td>clean energy</td>\n",
       "      <td>climate change</td>\n",
       "      <td>community empowerment</td>\n",
       "      <td>NaN</td>\n",
       "      <td>-12.833226</td>\n",
       "      <td>13.6010742</td>\n",
       "      <td>file: img-10</td>\n",
       "      <td>NaN</td>\n",
       "      <td>NaN</td>\n",
       "      <td>NaN</td>\n",
       "      <td>NaN</td>\n",
       "      <td>NaN</td>\n",
       "      <td>NaN</td>\n",
       "      <td>NaN</td>\n",
       "      <td>NaN</td>\n",
       "      <td>Angola</td>\n",
       "      <td>rb_africa</td>\n",
       "    </tr>\n",
       "    <tr>\n",
       "      <th>2</th>\n",
       "      <td>Mon Jun 28 2021 13:32:36 GMT+0000 (Coordinated...</td>\n",
       "      <td>Mon Jun 28 2021 13:32:36</td>\n",
       "      <td>3176</td>\n",
       "      <td>Hydro</td>\n",
       "      <td>NaN</td>\n",
       "      <td>Hybrid Generator</td>\n",
       "      <td>AccLab Angola</td>\n",
       "      <td>Contributor 3</td>\n",
       "      <td>The production of fuel from water is done thro...</td>\n",
       "      <td>NaN</td>\n",
       "      <td>NaN</td>\n",
       "      <td>NaN</td>\n",
       "      <td>NaN</td>\n",
       "      <td>NaN</td>\n",
       "      <td>NaN</td>\n",
       "      <td>NaN</td>\n",
       "      <td>NaN</td>\n",
       "      <td>NaN</td>\n",
       "      <td>NaN</td>\n",
       "      <td>NaN</td>\n",
       "      <td>NaN</td>\n",
       "      <td>NaN</td>\n",
       "      <td>...</td>\n",
       "      <td>12.0</td>\n",
       "      <td>13.0</td>\n",
       "      <td>NaN</td>\n",
       "      <td>NaN</td>\n",
       "      <td>NaN</td>\n",
       "      <td>alternative energy</td>\n",
       "      <td>electricity</td>\n",
       "      <td>polution reduction</td>\n",
       "      <td>NaN</td>\n",
       "      <td>-8.5158356</td>\n",
       "      <td>16.0817871</td>\n",
       "      <td>file: img-121</td>\n",
       "      <td>NaN</td>\n",
       "      <td>NaN</td>\n",
       "      <td>NaN</td>\n",
       "      <td>NaN</td>\n",
       "      <td>NaN</td>\n",
       "      <td>NaN</td>\n",
       "      <td>NaN</td>\n",
       "      <td>NaN</td>\n",
       "      <td>Angola</td>\n",
       "      <td>rb_africa</td>\n",
       "    </tr>\n",
       "    <tr>\n",
       "      <th>3</th>\n",
       "      <td>Thu Nov 12 2020 06:03:43 GMT+0000 (Coordinated...</td>\n",
       "      <td>Thu Nov 12 2020 06:03:43</td>\n",
       "      <td>2261</td>\n",
       "      <td>Renewable general</td>\n",
       "      <td>NaN</td>\n",
       "      <td>Electric Power Microgeneration System</td>\n",
       "      <td>AccLab Angola</td>\n",
       "      <td>Contributor 4</td>\n",
       "      <td>The electric power microgeneration system is d...</td>\n",
       "      <td>NaN</td>\n",
       "      <td>NaN</td>\n",
       "      <td>NaN</td>\n",
       "      <td>NaN</td>\n",
       "      <td>NaN</td>\n",
       "      <td>NaN</td>\n",
       "      <td>NaN</td>\n",
       "      <td>NaN</td>\n",
       "      <td>NaN</td>\n",
       "      <td>NaN</td>\n",
       "      <td>NaN</td>\n",
       "      <td>NaN</td>\n",
       "      <td>NaN</td>\n",
       "      <td>...</td>\n",
       "      <td>7.0</td>\n",
       "      <td>9.0</td>\n",
       "      <td>10.0</td>\n",
       "      <td>11.0</td>\n",
       "      <td>clean energy</td>\n",
       "      <td>community empowerment</td>\n",
       "      <td>rural electrification</td>\n",
       "      <td>social justice</td>\n",
       "      <td>welfare</td>\n",
       "      <td>-12.776115</td>\n",
       "      <td>15.687688</td>\n",
       "      <td>file: img-230</td>\n",
       "      <td>NaN</td>\n",
       "      <td>NaN</td>\n",
       "      <td>NaN</td>\n",
       "      <td>NaN</td>\n",
       "      <td>NaN</td>\n",
       "      <td>NaN</td>\n",
       "      <td>NaN</td>\n",
       "      <td>NaN</td>\n",
       "      <td>Angola</td>\n",
       "      <td>rb_africa</td>\n",
       "    </tr>\n",
       "    <tr>\n",
       "      <th>4</th>\n",
       "      <td>Wed Jul 21 2021 10:12:39 GMT+0000 (Coordinated...</td>\n",
       "      <td>Wed Jul 21 2021 10:12:39</td>\n",
       "      <td>3236</td>\n",
       "      <td>Household application</td>\n",
       "      <td>x</td>\n",
       "      <td>Solar Cooker</td>\n",
       "      <td>AccLab Angola</td>\n",
       "      <td>Contributor 5</td>\n",
       "      <td>Solar Cooker\\n\\n\\n\\t\\t\\t\\n\\n\\n\\t\\t\\t\\n\\n\\n\\t\\t\\t</td>\n",
       "      <td>NaN</td>\n",
       "      <td>NaN</td>\n",
       "      <td>NaN</td>\n",
       "      <td>NaN</td>\n",
       "      <td>NaN</td>\n",
       "      <td>NaN</td>\n",
       "      <td>NaN</td>\n",
       "      <td>NaN</td>\n",
       "      <td>NaN</td>\n",
       "      <td>NaN</td>\n",
       "      <td>NaN</td>\n",
       "      <td>NaN</td>\n",
       "      <td>NaN</td>\n",
       "      <td>...</td>\n",
       "      <td>12.0</td>\n",
       "      <td>13.0</td>\n",
       "      <td>NaN</td>\n",
       "      <td>NaN</td>\n",
       "      <td>innovation</td>\n",
       "      <td>polution reduction</td>\n",
       "      <td>solar energy</td>\n",
       "      <td>NaN</td>\n",
       "      <td>NaN</td>\n",
       "      <td>-12.86536</td>\n",
       "      <td>13.8098145</td>\n",
       "      <td>file: img-305</td>\n",
       "      <td>NaN</td>\n",
       "      <td>NaN</td>\n",
       "      <td>NaN</td>\n",
       "      <td>NaN</td>\n",
       "      <td>NaN</td>\n",
       "      <td>NaN</td>\n",
       "      <td>NaN</td>\n",
       "      <td>NaN</td>\n",
       "      <td>Angola</td>\n",
       "      <td>rb_africa</td>\n",
       "    </tr>\n",
       "  </tbody>\n",
       "</table>\n",
       "<p>5 rows × 46 columns</p>\n",
       "</div>"
      ],
      "text/plain": [
       "                                   contribution_date  \\\n",
       "0  Sun May 30 2021 13:48:32 GMT+0000 (Coordinated...   \n",
       "1  Mon Jun 28 2021 13:56:30 GMT+0000 (Coordinated...   \n",
       "2  Mon Jun 28 2021 13:32:36 GMT+0000 (Coordinated...   \n",
       "3  Thu Nov 12 2020 06:03:43 GMT+0000 (Coordinated...   \n",
       "4  Wed Jul 21 2021 10:12:39 GMT+0000 (Coordinated...   \n",
       "\n",
       "                   new_date    id          energy_source clean_cooking  \\\n",
       "0  Sun May 30 2021 13:48:32  3100                Thermal           NaN   \n",
       "1  Mon Jun 28 2021 13:56:30  3177                   Wind           NaN   \n",
       "2  Mon Jun 28 2021 13:32:36  3176                  Hydro           NaN   \n",
       "3  Thu Nov 12 2020 06:03:43  2261      Renewable general           NaN   \n",
       "4  Wed Jul 21 2021 10:12:39  3236  Household application             x   \n",
       "\n",
       "                                   title          mapper    contributor  \\\n",
       "0                               Eco Char  AccLab Algeria  Contributor 1   \n",
       "1                   Wind power generator   AccLab Angola  Contributor 2   \n",
       "2                       Hybrid Generator   AccLab Angola  Contributor 3   \n",
       "3  Electric Power Microgeneration System   AccLab Angola  Contributor 4   \n",
       "4                           Solar Cooker   AccLab Angola  Contributor 5   \n",
       "\n",
       "                          purp_prob_sol_description) solution_link  \\\n",
       "0  We upcycle wastes such as food organic wastes ...           NaN   \n",
       "1  The system to obtain electrical energy through...           NaN   \n",
       "2  The production of fuel from water is done thro...           NaN   \n",
       "3  The electric power microgeneration system is d...           NaN   \n",
       "4   Solar Cooker\\n\\n\\n\\t\\t\\t\\n\\n\\n\\t\\t\\t\\n\\n\\n\\t\\t\\t           NaN   \n",
       "\n",
       "  sol_open_source sol_Intellectual_Property sol_replication_training  \\\n",
       "0             NaN                       NaN                      NaN   \n",
       "1             NaN                       NaN                      NaN   \n",
       "2             NaN                       NaN                      NaN   \n",
       "3             NaN                       NaN                      NaN   \n",
       "4             NaN                       NaN                      NaN   \n",
       "\n",
       "  total_sol_unit_cost prototype product product_availability  \\\n",
       "0                 NaN       NaN     NaN                  NaN   \n",
       "1                 NaN       NaN     NaN                  NaN   \n",
       "2                 NaN       NaN     NaN                  NaN   \n",
       "3                 NaN       NaN     NaN                  NaN   \n",
       "4                 NaN       NaN     NaN                  NaN   \n",
       "\n",
       "  product_advance_order solution_trl solution_diffused end-user_feedback  \\\n",
       "0                   NaN          NaN               NaN               NaN   \n",
       "1                   NaN          NaN               NaN               NaN   \n",
       "2                   NaN          NaN               NaN               NaN   \n",
       "3                   NaN          NaN               NaN               NaN   \n",
       "4                   NaN          NaN               NaN               NaN   \n",
       "\n",
       "  efficiency_benchmarks  ... sdg_tag_2  sdg_tag_3  sdg_tag_4  sdg_tag_5  \\\n",
       "0                   NaN  ...       6.0       13.0        NaN        NaN   \n",
       "1                   NaN  ...       7.0       13.0        NaN        NaN   \n",
       "2                   NaN  ...      12.0       13.0        NaN        NaN   \n",
       "3                   NaN  ...       7.0        9.0       10.0       11.0   \n",
       "4                   NaN  ...      12.0       13.0        NaN        NaN   \n",
       "\n",
       "          thematic_tag_1         thematic_tag_2         thematic_tag_3  \\\n",
       "0  food waste management                  youth                 coffee   \n",
       "1     alternative energy           clean energy         climate change   \n",
       "2                    NaN     alternative energy            electricity   \n",
       "3           clean energy  community empowerment  rural electrification   \n",
       "4             innovation     polution reduction           solar energy   \n",
       "\n",
       "          thematic_tag_4 thematic_tag_5   Latitude   Longitude   \\\n",
       "0                 olives            NaN  36.7607349   3.0261856   \n",
       "1  community empowerment            NaN  -12.833226  13.6010742   \n",
       "2     polution reduction            NaN  -8.5158356  16.0817871   \n",
       "3         social justice        welfare  -12.776115   15.687688   \n",
       "4                    NaN            NaN   -12.86536  13.8098145   \n",
       "\n",
       "         image_1 image_2 image_3 image_4 image_5 image_6 image_7 image_8  \\\n",
       "0            NaN     NaN     NaN     NaN     NaN     NaN     NaN     NaN   \n",
       "1   file: img-10     NaN     NaN     NaN     NaN     NaN     NaN     NaN   \n",
       "2  file: img-121     NaN     NaN     NaN     NaN     NaN     NaN     NaN   \n",
       "3  file: img-230     NaN     NaN     NaN     NaN     NaN     NaN     NaN   \n",
       "4  file: img-305     NaN     NaN     NaN     NaN     NaN     NaN     NaN   \n",
       "\n",
       "  image_9  country regional_bureau  \n",
       "0     NaN  Algeria  rb_arab_states  \n",
       "1     NaN   Angola       rb_africa  \n",
       "2     NaN   Angola       rb_africa  \n",
       "3     NaN   Angola       rb_africa  \n",
       "4     NaN   Angola       rb_africa  \n",
       "\n",
       "[5 rows x 46 columns]"
      ]
     },
     "execution_count": 21,
     "metadata": {},
     "output_type": "execute_result"
    }
   ],
   "source": [
    "df.head()"
   ]
  },
  {
   "cell_type": "markdown",
   "id": "36d31314-0f24-4470-aad0-7bbed470d107",
   "metadata": {},
   "source": [
    "### Question : Energy source distribution"
   ]
  },
  {
   "cell_type": "code",
   "execution_count": 22,
   "id": "b4c0f44e-37d5-42f2-a2cf-9834ba0171a1",
   "metadata": {},
   "outputs": [
    {
     "data": {
      "text/plain": [
       "<AxesSubplot:xlabel='count', ylabel='energy_source'>"
      ]
     },
     "execution_count": 22,
     "metadata": {},
     "output_type": "execute_result"
    },
    {
     "data": {
      "image/png": "[encoded data removed]",
      "text/plain": [
       "<Figure size 1440x720 with 1 Axes>"
      ]
     },
     "metadata": {
      "needs_background": "light"
     },
     "output_type": "display_data"
    }
   ],
   "source": [
    "sns.countplot(data=df, y='energy_source', order=df['energy_source'].value_counts().index, hue='regional_bureau')"
   ]
  },
  {
   "cell_type": "code",
   "execution_count": 23,
   "id": "f1791808-a2aa-47f7-a65b-1ad340f88722",
   "metadata": {},
   "outputs": [
    {
     "data": {
      "text/plain": [
       "<AxesSubplot:xlabel='count', ylabel='clean_cooking'>"
      ]
     },
     "execution_count": 23,
     "metadata": {},
     "output_type": "execute_result"
    },
    {
     "data": {
      "image/png": "[encoded data removed]",
      "text/plain": [
       "<Figure size 1440x720 with 1 Axes>"
      ]
     },
     "metadata": {
      "needs_background": "light"
     },
     "output_type": "display_data"
    }
   ],
   "source": [
    "sns.countplot(data=df, y='clean_cooking', order=df['clean_cooking'].value_counts().index, hue='regional_bureau')"
   ]
  },
  {
   "cell_type": "code",
   "execution_count": 24,
   "id": "09f654d3-e932-404b-b656-99d6b716316a",
   "metadata": {},
   "outputs": [
    {
     "data": {
      "text/plain": [
       "<AxesSubplot:xlabel='count', ylabel='sol_open_source'>"
      ]
     },
     "execution_count": 24,
     "metadata": {},
     "output_type": "execute_result"
    },
    {
     "data": {
      "image/png": "[encoded data removed]",
      "text/plain": [
       "<Figure size 1440x720 with 1 Axes>"
      ]
     },
     "metadata": {
      "needs_background": "light"
     },
     "output_type": "display_data"
    }
   ],
   "source": [
    "sns.countplot(data=df, y='sol_open_source', order=df['sol_open_source'].value_counts().index, hue='regional_bureau')"
   ]
  },
  {
   "cell_type": "code",
   "execution_count": 25,
   "id": "42a6b27b-c0f7-46ac-8fef-709efe132979",
   "metadata": {},
   "outputs": [
    {
     "data": {
      "text/plain": [
       "<AxesSubplot:xlabel='count', ylabel='sol_Intellectual_Property'>"
      ]
     },
     "execution_count": 25,
     "metadata": {},
     "output_type": "execute_result"
    },
    {
     "data": {
      "image/png": "[encoded data removed]",
      "text/plain": [
       "<Figure size 1440x720 with 1 Axes>"
      ]
     },
     "metadata": {
      "needs_background": "light"
     },
     "output_type": "display_data"
    }
   ],
   "source": [
    "sns.countplot(data=df, y='sol_Intellectual_Property', order=df['sol_Intellectual_Property'].value_counts().index, hue='regional_bureau')"
   ]
  },
  {
   "cell_type": "code",
   "execution_count": 26,
   "id": "f49a8235-09a5-43d3-bfc3-d3a8e2b2affb",
   "metadata": {},
   "outputs": [
    {
     "data": {
      "text/plain": [
       "<AxesSubplot:xlabel='count', ylabel='sol_replication_training'>"
      ]
     },
     "execution_count": 26,
     "metadata": {},
     "output_type": "execute_result"
    },
    {
     "data": {
      "image/png": "[encoded data removed]",
      "text/plain": [
       "<Figure size 1440x720 with 1 Axes>"
      ]
     },
     "metadata": {
      "needs_background": "light"
     },
     "output_type": "display_data"
    }
   ],
   "source": [
    "sns.countplot(data=df, y='sol_replication_training', order=df['sol_replication_training'].value_counts().index, hue='regional_bureau')"
   ]
  },
  {
   "cell_type": "code",
   "execution_count": 27,
   "id": "67c283de-acca-4ee3-b9ab-7c37acee812f",
   "metadata": {},
   "outputs": [
    {
     "data": {
      "text/plain": [
       "<AxesSubplot:xlabel='count', ylabel='prototype'>"
      ]
     },
     "execution_count": 27,
     "metadata": {},
     "output_type": "execute_result"
    },
    {
     "data": {
      "image/png": "[encoded data removed]",
      "text/plain": [
       "<Figure size 1440x720 with 1 Axes>"
      ]
     },
     "metadata": {
      "needs_background": "light"
     },
     "output_type": "display_data"
    }
   ],
   "source": [
    "sns.countplot(data=df, y='prototype', order=df['prototype'].value_counts().index, hue='regional_bureau')"
   ]
  },
  {
   "cell_type": "code",
   "execution_count": 28,
   "id": "781696f8-8422-472b-b180-973bde6ef31e",
   "metadata": {},
   "outputs": [
    {
     "data": {
      "text/plain": [
       "<AxesSubplot:xlabel='count', ylabel='product'>"
      ]
     },
     "execution_count": 28,
     "metadata": {},
     "output_type": "execute_result"
    },
    {
     "data": {
      "image/png": "[encoded data removed]",
      "text/plain": [
       "<Figure size 1440x720 with 1 Axes>"
      ]
     },
     "metadata": {
      "needs_background": "light"
     },
     "output_type": "display_data"
    }
   ],
   "source": [
    "sns.countplot(data=df, y='product', order=df['product'].value_counts().index, hue='regional_bureau')"
   ]
  },
  {
   "cell_type": "code",
   "execution_count": 29,
   "id": "6317c03c-4967-49e1-9d77-eddcdfed3e29",
   "metadata": {},
   "outputs": [
    {
     "data": {
      "text/plain": [
       "<AxesSubplot:xlabel='count', ylabel='product_availability'>"
      ]
     },
     "execution_count": 29,
     "metadata": {},
     "output_type": "execute_result"
    },
    {
     "data": {
      "image/png": "[encoded data removed]",
      "text/plain": [
       "<Figure size 1440x720 with 1 Axes>"
      ]
     },
     "metadata": {
      "needs_background": "light"
     },
     "output_type": "display_data"
    }
   ],
   "source": [
    "sns.countplot(data=df, y='product_availability', order=df['product_availability'].value_counts().index, hue='regional_bureau')"
   ]
  },
  {
   "cell_type": "code",
   "execution_count": 30,
   "id": "71af91db-21cd-4d48-917d-0310ede58f97",
   "metadata": {},
   "outputs": [
    {
     "data": {
      "text/plain": [
       "<AxesSubplot:xlabel='count', ylabel='product_advance_order'>"
      ]
     },
     "execution_count": 30,
     "metadata": {},
     "output_type": "execute_result"
    },
    {
     "data": {
      "image/png": "[encoded data removed]",
      "text/plain": [
       "<Figure size 1440x720 with 1 Axes>"
      ]
     },
     "metadata": {
      "needs_background": "light"
     },
     "output_type": "display_data"
    }
   ],
   "source": [
    "sns.countplot(data=df, y='product_advance_order', order=df['product_advance_order'].value_counts().index, hue='regional_bureau')"
   ]
  },
  {
   "cell_type": "code",
   "execution_count": 31,
   "id": "9ff1ae83-5de5-49bf-ade8-de95954e5f3d",
   "metadata": {},
   "outputs": [
    {
     "data": {
      "text/plain": [
       "<AxesSubplot:xlabel='count', ylabel='sol_replication_training'>"
      ]
     },
     "execution_count": 31,
     "metadata": {},
     "output_type": "execute_result"
    },
    {
     "data": {
      "image/png": "[encoded data removed]",
      "text/plain": [
       "<Figure size 1440x720 with 1 Axes>"
      ]
     },
     "metadata": {
      "needs_background": "light"
     },
     "output_type": "display_data"
    }
   ],
   "source": [
    "sns.countplot(data=df, y='sol_replication_training', order=df['sol_replication_training'].value_counts().index, hue='regional_bureau')"
   ]
  },
  {
   "cell_type": "code",
   "execution_count": 32,
   "id": "4aa6d9b1-faef-4b48-9fc9-90fa02f553b5",
   "metadata": {},
   "outputs": [
    {
     "data": {
      "text/plain": [
       "<AxesSubplot:xlabel='count', ylabel='sol_replication_training'>"
      ]
     },
     "execution_count": 32,
     "metadata": {},
     "output_type": "execute_result"
    },
    {
     "data": {
      "image/png": "[encoded data removed]",
      "text/plain": [
       "<Figure size 1440x720 with 1 Axes>"
      ]
     },
     "metadata": {
      "needs_background": "light"
     },
     "output_type": "display_data"
    }
   ],
   "source": [
    "sns.countplot(data=df, y='sol_replication_training', order=df['sol_replication_training'].value_counts().index, hue='regional_bureau')"
   ]
  },
  {
   "cell_type": "code",
   "execution_count": 33,
   "id": "d061ab2b-f77b-4266-af4f-3bdd3c507284",
   "metadata": {},
   "outputs": [
    {
     "data": {
      "text/plain": [
       "<AxesSubplot:xlabel='count', ylabel='sol_replication_training'>"
      ]
     },
     "execution_count": 33,
     "metadata": {},
     "output_type": "execute_result"
    },
    {
     "data": {
      "image/png": "[encoded data removed]",
      "text/plain": [
       "<Figure size 1440x720 with 1 Axes>"
      ]
     },
     "metadata": {
      "needs_background": "light"
     },
     "output_type": "display_data"
    }
   ],
   "source": [
    "sns.countplot(data=df, y='sol_replication_training', order=df['sol_replication_training'].value_counts().index, hue='regional_bureau')"
   ]
  },
  {
   "cell_type": "code",
   "execution_count": 34,
   "id": "6def93e0-a428-4b72-889e-39f7243b1d70",
   "metadata": {},
   "outputs": [
    {
     "data": {
      "text/plain": [
       "<AxesSubplot:xlabel='count', ylabel='sol_replication_training'>"
      ]
     },
     "execution_count": 34,
     "metadata": {},
     "output_type": "execute_result"
    },
    {
     "data": {
      "image/png": "[encoded data removed]",
      "text/plain": [
       "<Figure size 1440x720 with 1 Axes>"
      ]
     },
     "metadata": {
      "needs_background": "light"
     },
     "output_type": "display_data"
    }
   ],
   "source": [
    "sns.countplot(data=df, y='sol_replication_training', order=df['sol_replication_training'].value_counts().index, hue='regional_bureau')"
   ]
  },
  {
   "cell_type": "markdown",
   "id": "8e0607a3-9237-4252-8d6a-4e83bcf0fd10",
   "metadata": {},
   "source": [
    "The 17 sustainable development goals (SDGs) to transform our world:\n",
    "GOAL 1: No Poverty\n",
    "\n",
    "GOAL 2: Zero Hunger\n",
    "\n",
    "GOAL 3: Good Health and Well-being\n",
    "\n",
    "GOAL 4: Quality Education\n",
    "\n",
    "GOAL 5: Gender Equality\n",
    "\n",
    "GOAL 6: Clean Water and Sanitation\n",
    "\n",
    "GOAL 7: Affordable and Clean Energy\n",
    "\n",
    "GOAL 8: Decent Work and Economic Growth\n",
    "\n",
    "GOAL 9: Industry, Innovation and Infrastructure\n",
    "\n",
    "GOAL 10: Reduced Inequality\n",
    "\n",
    "GOAL 11: Sustainable Cities and Communities\n",
    "\n",
    "GOAL 12: Responsible Consumption and Production\n",
    "\n",
    "GOAL 13: Climate Action\n",
    "\n",
    "GOAL 14: Life Below Water\n",
    "\n",
    "GOAL 15: Life on Land\n",
    "\n",
    "GOAL 16: Peace and Justice Strong Institutions\n",
    "\n",
    "GOAL 17: Partnerships to achieve the Goal"
   ]
  },
  {
   "cell_type": "code",
   "execution_count": 233,
   "id": "07e087db-62c1-47a9-a360-24b801fa3e12",
   "metadata": {},
   "outputs": [],
   "source": [
    "sdg_dict = {1: 'No Poverty',\n",
    "2: 'Zero Hunger',\n",
    "3: 'Good Health and Well-being',\n",
    "4: 'Quality Education',\n",
    "5: 'Gender Equality',\n",
    "6: 'Clean Water and Sanitation',\n",
    "7: 'Affordable and Clean Energy',\n",
    "8: 'Decent Work and Economic Growth',\n",
    "9: 'Industry, Innovation and Infrastructure',\n",
    "10: 'Reduced Inequality',\n",
    "11: 'Sustainable Cities and Communities',\n",
    "12: 'Responsible Consumption and Production',\n",
    "13: 'Climate Action',\n",
    "14: 'Life Below Water',\n",
    "15: 'Life on Land',\n",
    "16: 'Peace and Justice Strong Institutions',\n",
    "17: 'Partnerships to achieve the Goal'}"
   ]
  },
  {
   "cell_type": "markdown",
   "id": "ec391480-392c-46de-83df-996b86dd3726",
   "metadata": {},
   "source": [
    "df[['sdg_tag_1', 'sdg_tag_2', 'sdg_tag_3', 'sdg_tag_4', 'sdg_tag_5']].to_numpy().reshape(1, 1795)[0]"
   ]
  },
  {
   "cell_type": "code",
   "execution_count": 239,
   "id": "2e36a78c-dce5-4356-8229-212140b023d6",
   "metadata": {},
   "outputs": [
    {
     "data": {
      "text/plain": [
       "<AxesSubplot:ylabel='0'>"
      ]
     },
     "execution_count": 239,
     "metadata": {},
     "output_type": "execute_result"
    },
    {
     "data": {
      "image/png": "[encoded data removed]",
      "text/plain": [
       "<Figure size 1440x720 with 1 Axes>"
      ]
     },
     "metadata": {
      "needs_background": "light"
     },
     "output_type": "display_data"
    }
   ],
   "source": [
    "# We create an array of the sdg tags, convert to numpy array, reshape to 1-d array, drop NaN values, convert values to int, reset index, rename to corresponding sdg goals, then plot the bar chart of the distribution.\n",
    "pd.DataFrame(data = df[['sdg_tag_1', 'sdg_tag_2', 'sdg_tag_3', 'sdg_tag_4', 'sdg_tag_5']].to_numpy().reshape(1, 1795)[0]).dropna(axis=0).astype(int).reset_index(drop=True).value_counts().rename(lambda value: sdg_dict[value] if value in list(sdg_dict.keys()) else np.nan).plot(kind='barh')"
   ]
  },
  {
   "cell_type": "code",
   "execution_count": 37,
   "id": "e83fe82a-e3ba-4d79-af12-3174cc0c1e80",
   "metadata": {},
   "outputs": [
    {
     "data": {
      "text/plain": [
       "<function pandas.core.frame.DataFrame.reset_index(self, level: 'Hashable | Sequence[Hashable] | None' = None, drop: 'bool' = False, inplace: 'bool' = False, col_level: 'Hashable' = 0, col_fill: 'Hashable' = '') -> 'DataFrame | None'>"
      ]
     },
     "execution_count": 37,
     "metadata": {},
     "output_type": "execute_result"
    }
   ],
   "source": [
    "pd.DataFrame.reset_index"
   ]
  },
  {
   "cell_type": "markdown",
   "id": "951d1cf9-ef77-4058-9e87-4b859c425516",
   "metadata": {},
   "source": [
    "More about [Technology_readiness_level](https://en.wikipedia.org/wiki/Technology_readiness_level)"
   ]
  },
  {
   "cell_type": "markdown",
   "id": "8a3d8599-9ceb-4ece-b030-ea35f18540ca",
   "metadata": {},
   "source": [
    "<table class=\"wikitable\">\n",
    "<tbody><tr>\n",
    "<th>TRL</th>\n",
    "<th>Current NASA usage<sup id=\"cite_ref-4\" class=\"reference\"><a href=\"#cite_note-4\">[4]</a></sup></th>\n",
    "<th>European Union<sup id=\"cite_ref-5\" class=\"reference\"><a href=\"#cite_note-5\">[5]</a></sup>\n",
    "</th></tr>\n",
    "<tr>\n",
    "<td>1</td>\n",
    "<td>Basic principles observed and reported</td>\n",
    "<td>Basic principles observed\n",
    "</td></tr>\n",
    "<tr>\n",
    "<td>2</td>\n",
    "<td>Technology concept and/or application formulated</td>\n",
    "<td>Technology concept formulated\n",
    "</td></tr>\n",
    "<tr>\n",
    "<td>3</td>\n",
    "<td>Analytical and experimental critical function and/or characteristic proof-of concept</td>\n",
    "<td>Experimental proof of concept\n",
    "</td></tr>\n",
    "<tr>\n",
    "<td>4</td>\n",
    "<td>Component and/or breadboard validation in laboratory environment</td>\n",
    "<td>Technology validated in lab\n",
    "</td></tr>\n",
    "<tr>\n",
    "<td>5</td>\n",
    "<td>Component and/or breadboard validation in relevant environment</td>\n",
    "<td>Technology validated in relevant environment (industrially relevant environment in the case of key enabling technologies)\n",
    "</td></tr>\n",
    "<tr>\n",
    "<td>6</td>\n",
    "<td>System/subsystem model or prototype demonstration in a relevant environment (ground or space)</td>\n",
    "<td>Technology demonstrated in relevant environment (industrially relevant environment in the case of key enabling technologies)\n",
    "</td></tr>\n",
    "<tr>\n",
    "<td>7</td>\n",
    "<td>System prototype demonstration in a space environment</td>\n",
    "<td>System prototype demonstration in operational environment\n",
    "</td></tr>\n",
    "<tr>\n",
    "<td>8</td>\n",
    "<td>Actual system completed and \"flight qualified\" through test and demonstration (ground or space)</td>\n",
    "<td>System complete and qualified\n",
    "</td></tr>\n",
    "<tr>\n",
    "<td>9</td>\n",
    "<td>Actual system \"flight proven\" through successful mission operations</td>\n",
    "<td>Actual system proven in operational environment (competitive manufacturing in the case of key enabling technologies; or in space)\n",
    "</td></tr></tbody></table>"
   ]
  },
  {
   "cell_type": "code",
   "execution_count": 38,
   "id": "8ea18246-50bb-4088-a35a-facb6b98d99d",
   "metadata": {},
   "outputs": [
    {
     "data": {
      "text/plain": [
       "array([nan, 'Prototype system', 'Full commercial application',\n",
       "       'Prototype System', 'Fully ready', 'Ready',\n",
       "       'Deployable - product is available for sale/scaling.',\n",
       "       'Proof of concept developed.',\n",
       "       '8. Systeme reel complet qualifie a travers des tests et des demonstrations',\n",
       "       '9. Systeme reel prouve a travers des operations / missions reussies',\n",
       "       'TRL 7', 'TRL 4 - TRL 5', 'TRL7', 'TRL4', 'Between TRL 5 to TRL 7',\n",
       "       'TRL 5- TRL 6', 'TRL 6',\n",
       "       'Technical and economic feasibilities both positive. All materials of construction are readily available in most villages. TRL 7-TRL8',\n",
       "       'Technical and economic feasibilities both positive. All materials of construction are readily available in most villages. However the heat exchanger pipe that heats water and also acts as chimney has to be sourced in big cities',\n",
       "       'In practice',\n",
       "       'Applied research (analytical studies and tests only at the laboratory level) Prototype in a simulated environment (Validation of a prototype, whether full-scale or not, that has the ability to function in conditions similar to its final application, corroborating the results obtained; but its operability is still at the laboratory or simulation level).',\n",
       "       'Tested at laboratory context\\n',\n",
       "       'The start up has been running for almost 5 years',\n",
       "       'Tested product',\n",
       "       'It is currently at testing phase and has been used by the user for about 5 years now with success',\n",
       "       'This solutions has been in use since the early 2000s and has been tested widely',\n",
       "       'A business model ready for implementation/ won already 8k USD recently by the UNDP RET (rural energy technology project), which has recently phased out',\n",
       "       'The technology is readily available in high source of solar energy area 9Somali region of Ethiopia. This enterprise generate solar energy from installed solar energy generators and supply batteries based on prepaid schemes',\n",
       "       'Market viable product', 'scale up',\n",
       "       'Ready for production based on order', 'ready', 'Tested',\n",
       "       'Scale up', 'Available any time', 'ready for production',\n",
       "       'ready for production up on request', 'Mediana', 'Alta', 'RTL9',\n",
       "       'TRL 8', 'TRL9', '8 or 9', 8, '3\\n', 9,\n",
       "       datetime.datetime(2022, 9, 8, 0, 0),\n",
       "       'Proven implementation of product, service or process at scale',\n",
       "       'Proven implementationof product, serviceor process at scale',\n",
       "       'Not focused in technology, but models',\n",
       "       'TRL 5, Technology development.',\n",
       "       'Prototype Demonstration in operation Environment', 'Prototype.',\n",
       "       '(TRL.6), the solution has a functional prototype.', 5, 6, 7,\n",
       "       'fully ready', 'The Solution is ready',\n",
       "       'The Solution has already been tested and proved to be in the category of clean cooking solutions'],\n",
       "      dtype=object)"
      ]
     },
     "execution_count": 38,
     "metadata": {},
     "output_type": "execute_result"
    }
   ],
   "source": [
    "# Let's check about unique TRL values\n",
    "df['solution_trl'].unique()"
   ]
  },
  {
   "cell_type": "markdown",
   "id": "222dfe3f-1c33-44eb-9997-6a060cb5bdfd",
   "metadata": {},
   "source": [
    "Let's create a dictionary to map all this text to corresponding TRL numbers"
   ]
  },
  {
   "cell_type": "code",
   "execution_count": 39,
   "id": "a1fee21a-7eda-4eef-85f8-56011677507e",
   "metadata": {},
   "outputs": [],
   "source": [
    "trl_dict = {'Prototype system': 7,\n",
    "            'nan':np.nan,\n",
    "            'Full commercial application':9 ,\n",
    "            'Prototype System':7, \n",
    "            'Fully ready':9, \n",
    "            'Ready':9,\n",
    "            'Deployable - product is available for sale/scaling.':9,\n",
    "            'Proof of concept developed.':3,\n",
    "            '8. Systeme reel complet qualifie a travers des tests et des demonstrations':8,\n",
    "            '9. Systeme reel prouve a travers des operations / missions reussies':9,\n",
    "            'TRL 7':7, \n",
    "            'TRL 4 - TRL 5':5, \n",
    "            'TRL7':7, \n",
    "            'TRL4':4, \n",
    "            'Between TRL 5 to TRL 7':7,\n",
    "            'TRL 5- TRL 6':6, \n",
    "            'TRL 6':6,\n",
    "            'Technical and economic feasibilities both positive. All materials of construction are readily available in most villages. TRL 7-TRL8':8,\n",
    "            'Technical and economic feasibilities both positive. All materials of construction are readily available in most villages. However the heat exchanger pipe that heats water and also acts as chimney has to be sourced in big cities':8,\n",
    "            'In practice':9,\n",
    "            'Applied research (analytical studies and tests only at the laboratory level) Prototype in a simulated environment (Validation of a prototype, whether full-scale or not, that has the ability to function in conditions similar to its final application, corroborating the results obtained; but its operability is still at the laboratory or simulation level).':4,\n",
    "       'Tested at laboratory context\\n':4,\n",
    "       'The start up has been running for almost 5 years':9,\n",
    "       'Tested product':8,\n",
    "       'It is currently at testing phase and has been used by the user for about 5 years now with success':8,\n",
    "       'This solutions has been in use since the early 2000s and has been tested widely':9,\n",
    "       'A business model ready for implementation/ won already 8k USD recently by the UNDP RET (rural energy technology project), which has recently phased out':9,\n",
    "       'The technology is readily available in high source of solar energy area 9Somali region of Ethiopia. This enterprise generate solar energy from installed solar energy generators and supply batteries based on prepaid schemes':9,\n",
    "       'Market viable product':9, \n",
    "            'scale up':9,\n",
    "       'Ready for production based on order':9, \n",
    "            'ready':9, \n",
    "            'Tested':8,\n",
    "       'Scale up':9, \n",
    "            'Available any time':9, \n",
    "            'ready for production':9,\n",
    "       'ready for production up on request':9, \n",
    "            'Mediana':5, \n",
    "            'Alta':9, \n",
    "            'RTL9':9,\n",
    "       'TRL 8':8, \n",
    "            'TRL9':9, \n",
    "            '8 or 9':9, \n",
    "            8:8, \n",
    "            '3\\n':3, \n",
    "            9:9,\n",
    "       'Proven implementation of product, service or process at scale':9,\n",
    "       'Proven implementationof product, serviceor process at scale':9,\n",
    "       'Not focused in technology, but models':6,\n",
    "       'TRL 5, Technology development.':5,\n",
    "       'Prototype Demonstration in operation Environment':6, \n",
    "            'Prototype.':6,\n",
    "       '(TRL.6), the solution has a functional prototype.':6, \n",
    "            5:5, \n",
    "            6:6, \n",
    "            7:7,\n",
    "       'fully ready':9, \n",
    "            'The Solution is ready':9,\n",
    "       'The Solution has already been tested and proved to be in the category of clean cooking solutions':8}"
   ]
  },
  {
   "cell_type": "code",
   "execution_count": 132,
   "id": "185bf519-5b7d-4ec3-8f35-75cf1c7a1d8a",
   "metadata": {},
   "outputs": [],
   "source": [
    "trl_val = {1:'TRL_1', 2:'TRL_2', 3:'TRL_3', 4:'TRL_4', 5:'TRL_5', 6:'TRL_6', 7:'TRL_7', 8:'TRL_8', 9:'TRL_9'}"
   ]
  },
  {
   "cell_type": "code",
   "execution_count": 140,
   "id": "6feb51c3-e4ee-4e08-b89c-335ee0910d93",
   "metadata": {},
   "outputs": [],
   "source": [
    "df['trl_level'] = df['solution_trl'].apply(lambda value: trl_dict[value] if value in list(trl_dict.keys()) else np.nan).apply(lambda value: trl_val[value] if value in list(trl_val.keys()) else np.nan)"
   ]
  },
  {
   "cell_type": "code",
   "execution_count": 141,
   "id": "6b0123ee-5c66-437a-9655-5cedd75c020f",
   "metadata": {},
   "outputs": [
    {
     "name": "stdout",
     "output_type": "stream",
     "text": [
      "<class 'pandas.core.series.Series'>\n",
      "RangeIndex: 359 entries, 0 to 358\n",
      "Series name: trl_level\n",
      "Non-Null Count  Dtype   \n",
      "--------------  -----   \n",
      "125 non-null    category\n",
      "dtypes: category(1)\n",
      "memory usage: 859.0 bytes\n"
     ]
    }
   ],
   "source": [
    "# Let's convert trl_level to a CategoricalDtype\n",
    "classes = ['TRL_1', 'TRL_2', 'TRL_3', 'TRL_4', 'TRL_5', 'TRL_6', 'TRL_7', 'TRL_8', 'TRL_9']\n",
    "# Creating Category\n",
    "cat_classes = pd.api.types.CategoricalDtype(categories=classes, ordered=True)\n",
    "# Converting to CategoricalDtype\n",
    "df['trl_level'] = df['trl_level'].astype(cat_classes)\n",
    "# Testing\n",
    "df['trl_level'].info()"
   ]
  },
  {
   "cell_type": "code",
   "execution_count": 142,
   "id": "8fbc0611-b4e7-4c49-bdcb-6a7691cf00b0",
   "metadata": {},
   "outputs": [
    {
     "data": {
      "text/plain": [
       "0      NaN\n",
       "1      NaN\n",
       "2      NaN\n",
       "3      NaN\n",
       "4      NaN\n",
       "      ... \n",
       "354    NaN\n",
       "355    NaN\n",
       "356    NaN\n",
       "357    NaN\n",
       "358    NaN\n",
       "Name: trl_level, Length: 359, dtype: category\n",
       "Categories (9, object): ['TRL_1' < 'TRL_2' < 'TRL_3' < 'TRL_4' ... 'TRL_6' < 'TRL_7' < 'TRL_8' < 'TRL_9']"
      ]
     },
     "execution_count": 142,
     "metadata": {},
     "output_type": "execute_result"
    }
   ],
   "source": [
    "df['trl_level']"
   ]
  },
  {
   "cell_type": "code",
   "execution_count": 143,
   "id": "07167e4a-2a3d-4f14-9d03-85856102bcfe",
   "metadata": {},
   "outputs": [
    {
     "name": "stdout",
     "output_type": "stream",
     "text": [
      "<class 'pandas.core.series.Series'>\n",
      "RangeIndex: 359 entries, 0 to 358\n",
      "Series name: trl_level\n",
      "Non-Null Count  Dtype   \n",
      "--------------  -----   \n",
      "125 non-null    category\n",
      "dtypes: category(1)\n",
      "memory usage: 859.0 bytes\n"
     ]
    }
   ],
   "source": [
    "df['trl_level'].info()"
   ]
  },
  {
   "cell_type": "markdown",
   "id": "bd273bbc-93eb-4320-8217-59c7b3c7bd47",
   "metadata": {},
   "source": [
    "list(df['trl_level'])"
   ]
  },
  {
   "cell_type": "code",
   "execution_count": 43,
   "id": "c82b60c0-e3e3-4706-8854-12e8d72d025b",
   "metadata": {},
   "outputs": [],
   "source": [
    "df.to_csv('Viz4SocialGood_submissionV1.csv', index=False)"
   ]
  },
  {
   "cell_type": "code",
   "execution_count": 99,
   "id": "696c2566-4af4-468d-bb64-aa58a7ae63bb",
   "metadata": {},
   "outputs": [],
   "source": [
    "def proto_prodo(val):\n",
    "    if (val[0]=='x'):\n",
    "        return 'prototype'\n",
    "    elif (val[1]=='x'):\n",
    "        return 'product'\n",
    "    else:\n",
    "        return np.nan\n",
    "    "
   ]
  },
  {
   "cell_type": "markdown",
   "id": "b700f25b-17fa-4363-b712-dab7e69c0849",
   "metadata": {},
   "source": [
    "Let's create one colum 'sol_type'"
   ]
  },
  {
   "cell_type": "markdown",
   "id": "ed2ee6f6-fab2-42b6-85b8-9448bdc2751f",
   "metadata": {
    "tags": []
   },
   "source": [
    "\n",
    "df[['prototype', 'product']].to_numpy().tolist()"
   ]
  },
  {
   "cell_type": "markdown",
   "id": "c1533350-d76b-4b45-a06b-13e17f484027",
   "metadata": {
    "tags": []
   },
   "source": [
    "[proto_prodo(val) for val in df[['prototype', 'product']].to_numpy().tolist()]"
   ]
  },
  {
   "cell_type": "code",
   "execution_count": null,
   "id": "ff443882-e6e1-43f0-948f-ad601e9e3aad",
   "metadata": {},
   "outputs": [],
   "source": [
    "df['sol_type'] = [proto_prodo(val) for val in df[['prototype', 'product']].to_numpy().tolist()]"
   ]
  },
  {
   "cell_type": "code",
   "execution_count": null,
   "id": "74d4179e-aa7b-428f-96ef-483163defe35",
   "metadata": {},
   "outputs": [],
   "source": []
  },
  {
   "cell_type": "code",
   "execution_count": 101,
   "id": "1b9d17e0-5d48-4aac-8a62-76cb687c5650",
   "metadata": {},
   "outputs": [],
   "source": [
    "df.to_csv('Viz4SocialGood_submissionV1.csv', index=False)"
   ]
  },
  {
   "cell_type": "code",
   "execution_count": 102,
   "id": "47bff367-0bd0-4c21-9123-1c8dfc028d54",
   "metadata": {},
   "outputs": [
    {
     "name": "stdout",
     "output_type": "stream",
     "text": [
      "<class 'pandas.core.series.Series'>\n",
      "RangeIndex: 359 entries, 0 to 358\n",
      "Series name: sol_type\n",
      "Non-Null Count  Dtype \n",
      "--------------  ----- \n",
      "193 non-null    object\n",
      "dtypes: object(1)\n",
      "memory usage: 2.9+ KB\n"
     ]
    }
   ],
   "source": [
    "df.sol_type.info()"
   ]
  },
  {
   "cell_type": "code",
   "execution_count": null,
   "id": "83e83795-bf0a-4a67-a662-5b5ba6b65476",
   "metadata": {},
   "outputs": [],
   "source": []
  },
  {
   "cell_type": "code",
   "execution_count": 113,
   "id": "917fc606-3b5c-4410-b090-f70dee133d2b",
   "metadata": {},
   "outputs": [
    {
     "data": {
      "text/plain": [
       "<AxesSubplot:xlabel='sol_type', ylabel='count'>"
      ]
     },
     "execution_count": 113,
     "metadata": {},
     "output_type": "execute_result"
    },
    {
     "data": {
      "image/png": "[encoded data removed]",
      "text/plain": [
       "<Figure size 1440x720 with 1 Axes>"
      ]
     },
     "metadata": {
      "needs_background": "light"
     },
     "output_type": "display_data"
    }
   ],
   "source": [
    "sns.countplot(data=df, x='sol_type')"
   ]
  },
  {
   "cell_type": "code",
   "execution_count": 104,
   "id": "1737e4d1-9f50-4133-84d2-aba14add271d",
   "metadata": {},
   "outputs": [
    {
     "data": {
      "text/plain": [
       "<AxesSubplot:xlabel='sol_type', ylabel='count'>"
      ]
     },
     "execution_count": 104,
     "metadata": {},
     "output_type": "execute_result"
    },
    {
     "data": {
      "image/png": "[encoded data removed]",
      "text/plain": [
       "<Figure size 1440x720 with 1 Axes>"
      ]
     },
     "metadata": {
      "needs_background": "light"
     },
     "output_type": "display_data"
    }
   ],
   "source": [
    "sns.countplot(data=df, x='sol_type', hue='regional_bureau')"
   ]
  },
  {
   "cell_type": "code",
   "execution_count": 164,
   "id": "b1bc630f-27fb-4da4-aee4-c8fdb80f8c71",
   "metadata": {},
   "outputs": [
    {
     "data": {
      "text/plain": [
       "country          sol_type \n",
       "Argentina        product       3\n",
       "                 prototype    23\n",
       "Bangladesh       product       7\n",
       "Barbados         product       1\n",
       "                 prototype     1\n",
       "Burkina Faso     product      10\n",
       "                 prototype     1\n",
       "Cameroon         product       8\n",
       "                 prototype     2\n",
       "Ecuador          product      11\n",
       "                 prototype     2\n",
       "Egypt            product       1\n",
       "                 prototype     2\n",
       "Eswatini         product       1\n",
       "                 prototype     1\n",
       "Ethiopia         product      10\n",
       "                 prototype     3\n",
       "Guatemala        product       3\n",
       "Guinea           product       2\n",
       "                 prototype     7\n",
       "India            product      23\n",
       "                 prototype     8\n",
       "Iraq             prototype     1\n",
       "Malawi           product       1\n",
       "                 prototype     4\n",
       "Mexico           product       4\n",
       "                 prototype     1\n",
       "North Macedonia  product       1\n",
       "Pacific          product      13\n",
       "                 prototype     2\n",
       "Panama           product      14\n",
       "                 prototype     4\n",
       "Philippines      product       1\n",
       "Rwanda           prototype     5\n",
       "Syria            product       6\n",
       "                 prototype     2\n",
       "Turkey           product       1\n",
       "Uganda           product       3\n",
       "dtype: int64"
      ]
     },
     "execution_count": 164,
     "metadata": {},
     "output_type": "execute_result"
    }
   ],
   "source": [
    "df.groupby(['country', 'sol_type']).size()"
   ]
  },
  {
   "cell_type": "code",
   "execution_count": null,
   "id": "18521dd8-3d2d-4a13-88ca-1b0d62f150a3",
   "metadata": {},
   "outputs": [],
   "source": [
    "pd.DataFrame.rename"
   ]
  },
  {
   "cell_type": "code",
   "execution_count": 183,
   "id": "e122dc7b-1f1e-45ba-b4c5-8af48090f0ef",
   "metadata": {},
   "outputs": [
    {
     "data": {
      "text/html": [
       "<div>\n",
       "<style scoped>\n",
       "    .dataframe tbody tr th:only-of-type {\n",
       "        vertical-align: middle;\n",
       "    }\n",
       "\n",
       "    .dataframe tbody tr th {\n",
       "        vertical-align: top;\n",
       "    }\n",
       "\n",
       "    .dataframe thead th {\n",
       "        text-align: right;\n",
       "    }\n",
       "</style>\n",
       "<table border=\"1\" class=\"dataframe\">\n",
       "  <thead>\n",
       "    <tr style=\"text-align: right;\">\n",
       "      <th>sol_type</th>\n",
       "      <th>country</th>\n",
       "      <th>product</th>\n",
       "      <th>prototype</th>\n",
       "    </tr>\n",
       "  </thead>\n",
       "  <tbody>\n",
       "    <tr>\n",
       "      <th>0</th>\n",
       "      <td>Argentina</td>\n",
       "      <td>3.0</td>\n",
       "      <td>23.0</td>\n",
       "    </tr>\n",
       "    <tr>\n",
       "      <th>1</th>\n",
       "      <td>Bangladesh</td>\n",
       "      <td>7.0</td>\n",
       "      <td>NaN</td>\n",
       "    </tr>\n",
       "    <tr>\n",
       "      <th>2</th>\n",
       "      <td>Barbados</td>\n",
       "      <td>1.0</td>\n",
       "      <td>1.0</td>\n",
       "    </tr>\n",
       "    <tr>\n",
       "      <th>3</th>\n",
       "      <td>Burkina Faso</td>\n",
       "      <td>10.0</td>\n",
       "      <td>1.0</td>\n",
       "    </tr>\n",
       "    <tr>\n",
       "      <th>4</th>\n",
       "      <td>Cameroon</td>\n",
       "      <td>8.0</td>\n",
       "      <td>2.0</td>\n",
       "    </tr>\n",
       "    <tr>\n",
       "      <th>5</th>\n",
       "      <td>Ecuador</td>\n",
       "      <td>11.0</td>\n",
       "      <td>2.0</td>\n",
       "    </tr>\n",
       "    <tr>\n",
       "      <th>6</th>\n",
       "      <td>Egypt</td>\n",
       "      <td>1.0</td>\n",
       "      <td>2.0</td>\n",
       "    </tr>\n",
       "    <tr>\n",
       "      <th>7</th>\n",
       "      <td>Eswatini</td>\n",
       "      <td>1.0</td>\n",
       "      <td>1.0</td>\n",
       "    </tr>\n",
       "    <tr>\n",
       "      <th>8</th>\n",
       "      <td>Ethiopia</td>\n",
       "      <td>10.0</td>\n",
       "      <td>3.0</td>\n",
       "    </tr>\n",
       "    <tr>\n",
       "      <th>9</th>\n",
       "      <td>Guatemala</td>\n",
       "      <td>3.0</td>\n",
       "      <td>NaN</td>\n",
       "    </tr>\n",
       "    <tr>\n",
       "      <th>10</th>\n",
       "      <td>Guinea</td>\n",
       "      <td>2.0</td>\n",
       "      <td>7.0</td>\n",
       "    </tr>\n",
       "    <tr>\n",
       "      <th>11</th>\n",
       "      <td>India</td>\n",
       "      <td>23.0</td>\n",
       "      <td>8.0</td>\n",
       "    </tr>\n",
       "    <tr>\n",
       "      <th>12</th>\n",
       "      <td>Iraq</td>\n",
       "      <td>NaN</td>\n",
       "      <td>1.0</td>\n",
       "    </tr>\n",
       "    <tr>\n",
       "      <th>13</th>\n",
       "      <td>Malawi</td>\n",
       "      <td>1.0</td>\n",
       "      <td>4.0</td>\n",
       "    </tr>\n",
       "    <tr>\n",
       "      <th>14</th>\n",
       "      <td>Mexico</td>\n",
       "      <td>4.0</td>\n",
       "      <td>1.0</td>\n",
       "    </tr>\n",
       "    <tr>\n",
       "      <th>15</th>\n",
       "      <td>North Macedonia</td>\n",
       "      <td>1.0</td>\n",
       "      <td>NaN</td>\n",
       "    </tr>\n",
       "    <tr>\n",
       "      <th>16</th>\n",
       "      <td>Pacific</td>\n",
       "      <td>13.0</td>\n",
       "      <td>2.0</td>\n",
       "    </tr>\n",
       "    <tr>\n",
       "      <th>17</th>\n",
       "      <td>Panama</td>\n",
       "      <td>14.0</td>\n",
       "      <td>4.0</td>\n",
       "    </tr>\n",
       "    <tr>\n",
       "      <th>18</th>\n",
       "      <td>Philippines</td>\n",
       "      <td>1.0</td>\n",
       "      <td>NaN</td>\n",
       "    </tr>\n",
       "    <tr>\n",
       "      <th>19</th>\n",
       "      <td>Rwanda</td>\n",
       "      <td>NaN</td>\n",
       "      <td>5.0</td>\n",
       "    </tr>\n",
       "    <tr>\n",
       "      <th>20</th>\n",
       "      <td>Syria</td>\n",
       "      <td>6.0</td>\n",
       "      <td>2.0</td>\n",
       "    </tr>\n",
       "    <tr>\n",
       "      <th>21</th>\n",
       "      <td>Turkey</td>\n",
       "      <td>1.0</td>\n",
       "      <td>NaN</td>\n",
       "    </tr>\n",
       "    <tr>\n",
       "      <th>22</th>\n",
       "      <td>Uganda</td>\n",
       "      <td>3.0</td>\n",
       "      <td>NaN</td>\n",
       "    </tr>\n",
       "  </tbody>\n",
       "</table>\n",
       "</div>"
      ],
      "text/plain": [
       "sol_type          country  product  prototype\n",
       "0               Argentina      3.0       23.0\n",
       "1              Bangladesh      7.0        NaN\n",
       "2                Barbados      1.0        1.0\n",
       "3            Burkina Faso     10.0        1.0\n",
       "4                Cameroon      8.0        2.0\n",
       "5                 Ecuador     11.0        2.0\n",
       "6                   Egypt      1.0        2.0\n",
       "7                Eswatini      1.0        1.0\n",
       "8                Ethiopia     10.0        3.0\n",
       "9               Guatemala      3.0        NaN\n",
       "10                 Guinea      2.0        7.0\n",
       "11                  India     23.0        8.0\n",
       "12                   Iraq      NaN        1.0\n",
       "13                 Malawi      1.0        4.0\n",
       "14                 Mexico      4.0        1.0\n",
       "15        North Macedonia      1.0        NaN\n",
       "16                Pacific     13.0        2.0\n",
       "17                 Panama     14.0        4.0\n",
       "18            Philippines      1.0        NaN\n",
       "19                 Rwanda      NaN        5.0\n",
       "20                  Syria      6.0        2.0\n",
       "21                 Turkey      1.0        NaN\n",
       "22                 Uganda      3.0        NaN"
      ]
     },
     "execution_count": 183,
     "metadata": {},
     "output_type": "execute_result"
    }
   ],
   "source": [
    "df.groupby(['country', 'sol_type']).size().reset_index(name='count').pivot(index='country', columns='sol_type', values='count').reset_index().rename(columns={'sol_type': 'index'})"
   ]
  },
  {
   "cell_type": "code",
   "execution_count": 163,
   "id": "f686b899-e440-4b5d-ab5f-a646f22937ec",
   "metadata": {},
   "outputs": [
    {
     "data": {
      "text/plain": [
       "sol_type   country        \n",
       "product    Argentina           3\n",
       "           Bangladesh          7\n",
       "           Barbados            1\n",
       "           Burkina Faso       10\n",
       "           Cameroon            8\n",
       "           Ecuador            11\n",
       "           Egypt               1\n",
       "           Eswatini            1\n",
       "           Ethiopia           10\n",
       "           Guatemala           3\n",
       "           Guinea              2\n",
       "           India              23\n",
       "           Malawi              1\n",
       "           Mexico              4\n",
       "           North Macedonia     1\n",
       "           Pacific            13\n",
       "           Panama             14\n",
       "           Philippines         1\n",
       "           Syria               6\n",
       "           Turkey              1\n",
       "           Uganda              3\n",
       "prototype  Argentina          23\n",
       "           Barbados            1\n",
       "           Burkina Faso        1\n",
       "           Cameroon            2\n",
       "           Ecuador             2\n",
       "           Egypt               2\n",
       "           Eswatini            1\n",
       "           Ethiopia            3\n",
       "           Guinea              7\n",
       "           India               8\n",
       "           Iraq                1\n",
       "           Malawi              4\n",
       "           Mexico              1\n",
       "           Pacific             2\n",
       "           Panama              4\n",
       "           Rwanda              5\n",
       "           Syria               2\n",
       "dtype: int64"
      ]
     },
     "execution_count": 163,
     "metadata": {},
     "output_type": "execute_result"
    }
   ],
   "source": [
    "df.groupby(['sol_type', 'country']).size()"
   ]
  },
  {
   "cell_type": "code",
   "execution_count": 157,
   "id": "01592106-0425-476d-b625-4924af3d5751",
   "metadata": {},
   "outputs": [
    {
     "data": {
      "text/plain": [
       "<AxesSubplot:ylabel='count'>"
      ]
     },
     "execution_count": 157,
     "metadata": {},
     "output_type": "execute_result"
    },
    {
     "data": {
      "image/png": "[encoded data removed]",
      "text/plain": [
       "<Figure size 1440x720 with 1 Axes>"
      ]
     },
     "metadata": {
      "needs_background": "light"
     },
     "output_type": "display_data"
    }
   ],
   "source": [
    "sns.countplot(data=df[['sol_type', 'country']].value_counts().nlargest(30))"
   ]
  },
  {
   "cell_type": "code",
   "execution_count": 112,
   "id": "d711a23f-b5b5-45d9-9ee4-efeb9dde5326",
   "metadata": {},
   "outputs": [
    {
     "data": {
      "image/png": "[encoded data removed]",
      "text/plain": [
       "<Figure size 1440x720 with 1 Axes>"
      ]
     },
     "metadata": {},
     "output_type": "display_data"
    }
   ],
   "source": [
    "sorted_counts = df['sol_type'].value_counts()\n",
    "\n",
    "plt.pie(sorted_counts, labels = sorted_counts.index, startangle = 90,\n",
    "        counterclock = False, wedgeprops = {'width' : 0.4});\n",
    "plt.axis('square');"
   ]
  },
  {
   "cell_type": "code",
   "execution_count": 145,
   "id": "cae2c6e7-e59e-4b80-9f58-80b853a95aaf",
   "metadata": {},
   "outputs": [
    {
     "data": {
      "text/plain": [
       "<AxesSubplot:xlabel='sol_type', ylabel='count'>"
      ]
     },
     "execution_count": 145,
     "metadata": {},
     "output_type": "execute_result"
    },
    {
     "data": {
      "image/png": "[encoded data removed]",
      "text/plain": [
       "<Figure size 1440x720 with 1 Axes>"
      ]
     },
     "metadata": {
      "needs_background": "light"
     },
     "output_type": "display_data"
    }
   ],
   "source": [
    "sns.countplot(data=df, x='sol_type', hue='trl_level')"
   ]
  },
  {
   "cell_type": "code",
   "execution_count": null,
   "id": "933c6fd4-ca5d-458b-af40-de3403745dbb",
   "metadata": {},
   "outputs": [],
   "source": []
  },
  {
   "cell_type": "code",
   "execution_count": null,
   "id": "00b07962-aac6-4388-8b8a-4893fdde7753",
   "metadata": {},
   "outputs": [],
   "source": []
  },
  {
   "cell_type": "code",
   "execution_count": null,
   "id": "85081fe7-c288-4142-9753-8a9248d2b20c",
   "metadata": {},
   "outputs": [],
   "source": [
    "trl_level"
   ]
  },
  {
   "cell_type": "code",
   "execution_count": 195,
   "id": "139327e0-cb87-4df4-a633-489cc057c31c",
   "metadata": {},
   "outputs": [
    {
     "data": {
      "text/plain": [
       "array(['food waste management', 'youth', 'coffee', ..., 'stove', nan, nan],\n",
       "      dtype=object)"
      ]
     },
     "execution_count": 195,
     "metadata": {},
     "output_type": "execute_result"
    }
   ],
   "source": [
    "df[['thematic_tag_1', 'thematic_tag_2', 'thematic_tag_3', 'thematic_tag_4', 'thematic_tag_5']].to_numpy().reshape(1, 1795)[0]"
   ]
  },
  {
   "cell_type": "code",
   "execution_count": 199,
   "id": "648428ff-d846-455c-a6a7-731f6826f072",
   "metadata": {},
   "outputs": [
    {
     "data": {
      "text/plain": [
       "<AxesSubplot:ylabel='0'>"
      ]
     },
     "execution_count": 199,
     "metadata": {},
     "output_type": "execute_result"
    },
    {
     "data": {
      "image/png": "[encoded data removed]",
      "text/plain": [
       "<Figure size 1440x720 with 1 Axes>"
      ]
     },
     "metadata": {
      "needs_background": "light"
     },
     "output_type": "display_data"
    }
   ],
   "source": [
    "pd.DataFrame(data = df[['thematic_tag_1', 'thematic_tag_2', 'thematic_tag_3', 'thematic_tag_4', 'thematic_tag_5']].to_numpy().reshape(1, 1795)[0]).dropna(axis=0).reset_index(drop=True).value_counts().nlargest(50).plot(kind='barh')"
   ]
  },
  {
   "cell_type": "code",
   "execution_count": null,
   "id": "ada8e92b-c892-4e71-9c1c-8150cf2676ca",
   "metadata": {},
   "outputs": [],
   "source": []
  },
  {
   "cell_type": "code",
   "execution_count": null,
   "id": "ba5249c6-fdc2-4fbb-bbbc-ad22e0ec8d8c",
   "metadata": {},
   "outputs": [],
   "source": []
  },
  {
   "cell_type": "code",
   "execution_count": null,
   "id": "dac9d58d-3306-4080-80fd-bd28f199ec08",
   "metadata": {},
   "outputs": [],
   "source": []
  },
  {
   "cell_type": "code",
   "execution_count": null,
   "id": "4a4060ed-d45f-45fb-adc9-de5cb39b1ab9",
   "metadata": {},
   "outputs": [],
   "source": []
  },
  {
   "cell_type": "code",
   "execution_count": 186,
   "id": "85e60951-b88e-4638-978e-9110e4725810",
   "metadata": {},
   "outputs": [
    {
     "data": {
      "text/plain": [
       "Index(['contribution_date', 'new_date', 'id', 'energy_source', 'clean_cooking',\n",
       "       'title', 'mapper', 'contributor', 'purp_prob_sol_description)',\n",
       "       'solution_link', 'sol_open_source', 'sol_Intellectual_Property',\n",
       "       'sol_replication_training', 'total_sol_unit_cost', 'prototype',\n",
       "       'product', 'product_availability', 'product_advance_order',\n",
       "       'solution_trl', 'solution_diffused', 'end-user_feedback',\n",
       "       'efficiency_benchmarks', 'bottlenecks', 'sdg_tag_1', 'sdg_tag_2',\n",
       "       'sdg_tag_3', 'sdg_tag_4', 'sdg_tag_5', 'thematic_tag_1',\n",
       "       'thematic_tag_2', 'thematic_tag_3', 'thematic_tag_4', 'thematic_tag_5',\n",
       "       'Latitude ', 'Longitude ', 'image_1', 'image_2', 'image_3', 'image_4',\n",
       "       'image_5', 'image_6', 'image_7', 'image_8', 'image_9', 'country',\n",
       "       'regional_bureau', 'trl_level', 'sol_type'],\n",
       "      dtype='object')"
      ]
     },
     "execution_count": 186,
     "metadata": {},
     "output_type": "execute_result"
    }
   ],
   "source": [
    "df.columns"
   ]
  },
  {
   "cell_type": "code",
   "execution_count": 219,
   "id": "ec6e168d-54d9-43af-8868-36280ec42590",
   "metadata": {
    "collapsed": true,
    "jupyter": {
     "outputs_hidden": true
    },
    "tags": []
   },
   "outputs": [
    {
     "data": {
      "text/plain": [
       "array([nan, '1200 BDT per unit',\n",
       "       'Initial investment: BDT 1.7 million. Pricing: BDT 20-30 per HH/month',\n",
       "       'Unsure.', '3420 $ US', '298 $ US', '3670 $ US', '2414 $ US', 150,\n",
       "       '574 $ US', '161 $ US', '563 $ US', '2415 $ US', '1450 $ US',\n",
       "       '51501 $ US', '$22',\n",
       "       'After economic analysis, our ASAAB cooker is sold between 15000 FCFA and 25000 FCFA or between 23 ¬£ and 39 ¬£ about 33 US$ and 56 US$. On the other hand, the price of other thermal cookers already marketed is about 90 US$ and more or more than 40,500 FCFA.',\n",
       "       'being a product which is not yet in the market, we plan on fixing the unit cost of the solution at 130 000 frs Cfa payable in 3 instalment.',\n",
       "       '$400', '800 Dollars',\n",
       "       'We sell a kilogram at 150cfa compared to that of wood whose prices vary from 300cfa to 500frs sometimes. The wood in the city of Maroua is sold in a small pile of about 03 twigs which is up to 100frs and can not make a meal',\n",
       "       '100$',\n",
       "       'The unit cost if 45,000 Frs with no maintenance costs. However if massed produced with a small iron smelting plant the cost could get down to 25000 frs. Important to state that we recommend sheet metal thickness of 3mm which is quite expensive now in the market but very durable.',\n",
       "       'The unit cost if 250,000 Frs CFA with no maintenance costs. However if massed produced with a small iron smelting plant the cost could get down to 200000 frs CFA.',\n",
       "       'Improve led light so that it has a greater scope of spectrum and illumination',\n",
       "       '2500 EGP', '450 euros per month (36 months)', '45000EGP',\n",
       "       'the costs can range between $1000 and $1200',\n",
       "       'approximately $500',\n",
       "       'The business model requires1 million ETB (~19000 USD) for implementation',\n",
       "       'USD 1000', '20 USD', '2500 Birr', '0.6 USD/kg',\n",
       "       'it is made of burned clay, 3 to 4 cylindrical enclosures, no pot-rests, developed by the Government in 2002, can be found in Amhara, Oromia, Tigray and Southern regions, price from 1 to 2 USD, cheapest Injera baking ICS stove in Ethiopia), stove-test by the Ministry of Water and Energy',\n",
       "       '0.13 USD', '1400 USD', 'No se tiene esa info',\n",
       "       'To be updated soon', 'From sefl evaluation probably 20 USD.',\n",
       "       '1000000 GNF / 100 USD', '20 000 000 GNF', 'Maximum 7 USD.',\n",
       "       'Undefined', 'Not defined', '25,000 USD',\n",
       "       '35, 000 VUV (Vanuatu Vatu)', '16000 VUV/peanut cooker',\n",
       "       '200, 000VUV/unit', 'No', '1,450 - 1,750 quetzales',\n",
       "       '110 - 810 quetzales', '7,390 - 10,599 quetzales',\n",
       "       '50,000 FRW/KW equivalent to 52$',\n",
       "       'The prices are affordable but still under discussion.',\n",
       "       '20$ per stove', '500,000 FRW equivalent to 515$.',\n",
       "       '500,000 FRW / 515$', '1500$',\n",
       "       'Green house building and installation costs 3000$, (in Syria it is more expensive due to scarcity of inputs, and due to economic sanctions)\\nComposting heating distribution unite costs: 1200$',\n",
       "       'the cost depends on the availability of materials in Syria. But approximately between 1500$ to 2000%',\n",
       "       1500, '1200 $', 1700, 'Depends on the quantity',\n",
       "       '100 TRY per solar cooker', '1,750,000 Ugandan Shillings'],\n",
       "      dtype=object)"
      ]
     },
     "execution_count": 219,
     "metadata": {},
     "output_type": "execute_result"
    }
   ],
   "source": [
    "df['total_sol_unit_cost'].unique()"
   ]
  },
  {
   "cell_type": "markdown",
   "id": "dd417804-bf09-4067-9c91-40e62aa0d40a",
   "metadata": {
    "jupyter": {
     "source_hidden": true
    },
    "tags": []
   },
   "source": [
    "We will convert everything to USD\n",
    "\n",
    "1 TRY = 0.054 USD\n",
    "\n",
    "1 Ugandan Shillings = 0.00026 USD\n",
    "\n",
    "1 GNF = 0.00012 USD\n",
    "\n",
    "1 XAF = 0.0015 USD\n",
    "\n",
    "1 BDT = 0.0099 USD\n",
    "\n",
    "1 EGP 0,051\n",
    "\n",
    "1 EUR\n",
    "\n",
    "1 BIRR\n",
    "\n",
    "1 quetzales\n",
    "\n",
    "1 VUV"
   ]
  },
  {
   "cell_type": "code",
   "execution_count": 220,
   "id": "577193c3-29b5-4e0d-acaf-843a6798f268",
   "metadata": {},
   "outputs": [],
   "source": [
    "convert_dict = {'TRY': 0.054, 'Ugandan Shillings':0.00026, 'GNF': 0.00012, 'XAF': 0.0015, 'BDT': 0.0099, 'USD': 1, 'EGP': 0.051, 'EUR':0.97, 'BIRR':0.019, 'quetzales':0.13, 'VUV':0.00814599}"
   ]
  },
  {
   "cell_type": "code",
   "execution_count": 221,
   "id": "8313c693-e068-4f0a-a0b2-676e492f35bb",
   "metadata": {
    "jupyter": {
     "source_hidden": true
    },
    "tags": []
   },
   "outputs": [],
   "source": [
    "cost_dict = {'nan':np.nan, \n",
    "             '1200 BDT per unit': 1200 * convert_dict['BDT'] ,\n",
    "       'Initial investment: BDT 1.7 million. Pricing: BDT 20-30 per HH/month': 1700000 * convert_dict['BDT'],\n",
    "       'Unsure.':np.nan, \n",
    "             '3420 $ US':3420 * convert_dict['USD'] , \n",
    "             '298 $ US':298 * convert_dict['USD'], \n",
    "             '3670 $ US':3670 * convert_dict['USD'], \n",
    "             '2414 $ US':2414 * convert_dict['USD'], \n",
    "             150:150 * convert_dict['USD'],\n",
    "       '574 $ US':574 * convert_dict['USD'], \n",
    "             '161 $ US':161 * convert_dict['USD'], \n",
    "             '563 $ US':563 * convert_dict['USD'], \n",
    "             '2415 $ US':2415 * convert_dict['USD'], \n",
    "             '1450 $ US':1450 * convert_dict['USD'],\n",
    "       '51501 $ US':51501 * convert_dict['USD'], \n",
    "             '$22':22 * convert_dict['USD'],\n",
    "       'After economic analysis, our ASAAB cooker is sold between 15000 FCFA and 25000 FCFA or between 23 ¬£ and 39 ¬£ about 33 US$ and 56 US$. On the other hand, the price of other thermal cookers already marketed is about 90 US$ and more or more than 40,500 FCFA.':56 * convert_dict['USD'],\n",
    "       'being a product which is not yet in the market, we plan on fixing the unit cost of the solution at 130 000 frs Cfa payable in 3 instalment.':130000 * convert_dict['XAF'],\n",
    "       '$400':400 * convert_dict['USD'], \n",
    "             '800 Dollars':800 * convert_dict['USD'],\n",
    "       'We sell a kilogram at 150cfa compared to that of wood whose prices vary from 300cfa to 500frs sometimes. The wood in the city of Maroua is sold in a small pile of about 03 twigs which is up to 100frs and can not make a meal':500 * convert_dict['XAF'],\n",
    "       '100$': 100 * convert_dict['USD'],\n",
    "       'The unit cost if 45,000 Frs with no maintenance costs. However if massed produced with a small iron smelting plant the cost could get down to 25000 frs. Important to state that we recommend sheet metal thickness of 3mm which is quite expensive now in the market but very durable.':45000 * convert_dict['XAF'],\n",
    "       'The unit cost if 250,000 Frs CFA with no maintenance costs. However if massed produced with a small iron smelting plant the cost could get down to 200000 frs CFA.':250000 * convert_dict['XAF'],\n",
    "       'Improve led light so that it has a greater scope of spectrum and illumination':np.nan,\n",
    "       '2500 EGP':2500 * convert_dict['EGP'], \n",
    "             '450 euros per month (36 months)': 450 * 36 * convert_dict['EUR'], \n",
    "             '45000EGP':45000 * convert_dict['EGP'],\n",
    "       'the costs can range between $1000 and $1200':1200 * convert_dict['USD'],\n",
    "       'approximately $500':500 * convert_dict['USD'],\n",
    "       'The business model requires1 million ETB (~19000 USD) for implementation':19000 * convert_dict['USD'],\n",
    "       'USD 1000':1000 * convert_dict['USD'], \n",
    "             '20 USD':20 * convert_dict['USD'], \n",
    "             '2500 Birr':2500 * convert_dict['BIRR'], \n",
    "             '0.6 USD/kg':0.6 * convert_dict['USD'],\n",
    "       'it is made of burned clay, 3 to 4 cylindrical enclosures, no pot-rests, developed by the Government in 2002, can be found in Amhara, Oromia, Tigray and Southern regions, price from 1 to 2 USD, cheapest Injera baking ICS stove in Ethiopia), stove-test by the Ministry of Water and Energy':2 * convert_dict['USD'],\n",
    "       '0.13 USD':0.13 * convert_dict['USD'], \n",
    "             '1400 USD':1400 * convert_dict['USD'], \n",
    "             'No se tiene esa info':np.nan,\n",
    "       'To be updated soon':np.nan, \n",
    "             'From sefl evaluation probably 20 USD.':20 * convert_dict['USD'],\n",
    "       '1000000 GNF / 100 USD':100 * convert_dict['USD'], \n",
    "             '20 000 000 GNF':20000000 * convert_dict['GNF'], \n",
    "             'Maximum 7 USD.':7 * convert_dict['USD'],\n",
    "       'Undefined':np.nan, \n",
    "             'Not defined':np.nan, \n",
    "             '25,000 USD':25000 * convert_dict['USD'],\n",
    "       '35, 000 VUV (Vanuatu Vatu)':35000 * convert_dict['VUV'], \n",
    "             '16000 VUV/peanut cooker':16000 * convert_dict['VUV'],\n",
    "       '200, 000VUV/unit':200000 * convert_dict['VUV'], \n",
    "             'No':np.nan, \n",
    "             '1,450 - 1,750 quetzales':1750 * convert_dict['quetzales'],\n",
    "       '110 - 810 quetzales':810 * convert_dict['quetzales'], \n",
    "             '7,390 - 10,599 quetzales':10599 * convert_dict['quetzales'],\n",
    "       '50,000 FRW/KW equivalent to 52$':52 * convert_dict['USD'],\n",
    "       'The prices are affordable but still under discussion.':np.nan,\n",
    "       '20$ per stove':20 * convert_dict['USD'], \n",
    "             '500,000 FRW equivalent to 515$.':515 * convert_dict['USD'],\n",
    "       '500,000 FRW / 515$':51 * convert_dict['USD'], \n",
    "             '1500$':1500 * convert_dict['USD'],\n",
    "       'Green house building and installation costs 3000$, (in Syria it is more expensive due to scarcity of inputs, and due to economic sanctions)\\nComposting heating distribution unite costs: 1200$':(3000 + 1200) * convert_dict['USD'],\n",
    "       'the cost depends on the availability of materials in Syria. But approximately between 1500$ to 2000%':2000 * convert_dict['USD'],\n",
    "       1500:1500 * convert_dict['USD'], \n",
    "             '1200 $':1200 * convert_dict['USD'], \n",
    "             1700:1700 * convert_dict['USD'], \n",
    "             'Depends on the quantity':np.nan,\n",
    "       '100 TRY per solar cooker':100 * convert_dict['TRY'], \n",
    "             '1,750,000 Ugandan Shillings':1750000 * convert_dict['Ugandan Shillings']}"
   ]
  },
  {
   "cell_type": "code",
   "execution_count": null,
   "id": "8c33e372-5f9a-4c7a-a82b-196bdfcf582e",
   "metadata": {},
   "outputs": [],
   "source": []
  },
  {
   "cell_type": "code",
   "execution_count": 222,
   "id": "c50530f1-47f8-41a4-95e0-5ecc8cf89bc8",
   "metadata": {},
   "outputs": [],
   "source": [
    "df['sol_cost_usd'] = df['total_sol_unit_cost'].apply(lambda value: cost_dict[value] if value in list(cost_dict.keys()) else np.nan)"
   ]
  },
  {
   "cell_type": "code",
   "execution_count": 223,
   "id": "da92f71f-2bd3-431d-a37d-57c55d1c032d",
   "metadata": {},
   "outputs": [
    {
     "name": "stdout",
     "output_type": "stream",
     "text": [
      "<class 'pandas.core.series.Series'>\n",
      "RangeIndex: 359 entries, 0 to 358\n",
      "Series name: sol_cost_usd\n",
      "Non-Null Count  Dtype  \n",
      "--------------  -----  \n",
      "59 non-null     float64\n",
      "dtypes: float64(1)\n",
      "memory usage: 2.9 KB\n"
     ]
    }
   ],
   "source": [
    "df['sol_cost_usd'].info()"
   ]
  },
  {
   "cell_type": "code",
   "execution_count": null,
   "id": "b6215d46-7551-4685-8b58-f54d3e28252c",
   "metadata": {},
   "outputs": [],
   "source": []
  }
 ],
 "metadata": {
  "kernelspec": {
   "display_name": "Python 3 (ipykernel)",
   "language": "python",
   "name": "python3"
  },
  "language_info": {
   "codemirror_mode": {
    "name": "ipython",
    "version": 3
   },
   "file_extension": ".py",
   "mimetype": "text/x-python",
   "name": "python",
   "nbconvert_exporter": "python",
   "pygments_lexer": "ipython3",
   "version": "3.10.4"
  }
 },
 "nbformat": 4,
 "nbformat_minor": 5
}
